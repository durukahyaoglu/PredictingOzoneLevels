{
  "nbformat": 4,
  "nbformat_minor": 0,
  "metadata": {
    "colab": {
      "provenance": [],
      "authorship_tag": "ABX9TyMLTJTipX43TqqW6ryubkzM",
      "include_colab_link": true
    },
    "kernelspec": {
      "name": "python3",
      "display_name": "Python 3"
    },
    "language_info": {
      "name": "python"
    }
  },
  "cells": [
    {
      "cell_type": "markdown",
      "metadata": {
        "id": "view-in-github",
        "colab_type": "text"
      },
      "source": [
        "<a href=\"https://colab.research.google.com/github/pakdaniel/MECS-4995-AML-Group-24/blob/main/Preprocessing.ipynb\" target=\"_parent\"><img src=\"https://colab.research.google.com/assets/colab-badge.svg\" alt=\"Open In Colab\"/></a>"
      ]
    },
    {
      "cell_type": "code",
      "source": [
        "import pandas as pd\n",
        "from sklearn.preprocessing import OneHotEncoder, StandardScaler\n",
        "from sklearn.compose import ColumnTransformer\n",
        "\n",
        "\n",
        "pth = \"met_gas_site_cleaned.snappy.parquet\"\n",
        "def generate_datasets(pth):\n",
        "\n",
        "  df = pd.read_parquet(pth)\n",
        "  df[\"year\"] = df[\"DATE_TIME\"].dt.year\n",
        "  df[\"month\"] = df[\"DATE_TIME\"].dt.month\n",
        "  df[\"LATITUDE\"] = df[\"LATITUDE\"].astype(\"float\")\n",
        "  df[\"LONGITUDE\"] = df[\"LONGITUDE\"].astype(\"float\")\n",
        "\n",
        "  categorical_columns = ['LAND_USE', 'TERRAIN']\n",
        "  for feature in categorical_columns:\n",
        "      encoder = OneHotEncoder()\n",
        "      encoded_data = encoder.fit_transform(df[[feature]])\n",
        "      df[encoder.categories_[0]] = encoded_data.toarray()\n",
        "\n",
        "\n",
        "  drop_columns = ['OZONE', \"year\", \"DATE_TIME\", \"SITE_ID\", \"QA_CODE\", \"WINDSPEED\", \"SIGMA_THETA\"] + categorical_columns\n",
        "  df_train = df[df['year'].isin([2013, 2014, 2015, 2016, 2017, 2018])]\n",
        "  X_train, y_train = df_train.drop(columns=drop_columns, axis=1), df_train['OZONE']\n",
        "\n",
        "  columns = X_train.columns\n",
        "\n",
        "  numerical_features = ['TEMPERATURE',\n",
        "                        'RELATIVE_HUMIDITY',\n",
        "                        'SOLAR_RADIATION',\n",
        "                        'PRECIPITATION',\n",
        "                        'WIND_DIRECTION',\n",
        "                        'FLOW_RATE',\n",
        "                        'WINDSPEED_SCALAR',\n",
        "                        'SHELTER_TEMPERATURE',\n",
        "                        'NO',\n",
        "                        'NOY',\n",
        "                        'NOYDIF',\n",
        "                        'SO2_GA',\n",
        "                        'LATITUDE',\n",
        "                        'LONGITUDE',\n",
        "                        'ELEVATION']\n",
        "\n",
        "  ct = ColumnTransformer([\n",
        "          ('Standardize Numerical Features', StandardScaler(), numerical_features)\n",
        "      ], remainder='passthrough')\n",
        "  X_train = ct.fit_transform(X_train)\n",
        "\n",
        "  df_val = df[df['year'].isin([2019, 2020])]\n",
        "  X_val, y_val = df_val.drop(columns=drop_columns, axis=1), df_val['OZONE']\n",
        "  X_val = ct.transform(X_val)\n",
        "\n",
        "  df_test = df[df['year'].isin([2021, 2022])]\n",
        "  X_test, y_test = df_test.drop(columns=drop_columns, axis=1), df_test['OZONE']\n",
        "  X_test = ct.transform(X_test)\n",
        "\n",
        "  return columns, X_train, y_train, X_val, y_val, X_test, y_test\n",
        "\n",
        "columns, X_train, y_train, X_val, y_val, X_test, y_test = generate_datasets(\"met_gas_site_cleaned.snappy.parquet\")"
      ],
      "metadata": {
        "id": "iJogdmJvPwQ6"
      },
      "execution_count": 64,
      "outputs": []
    },
    {
      "cell_type": "code",
      "source": [
        "columns"
      ],
      "metadata": {
        "colab": {
          "base_uri": "https://localhost:8080/"
        },
        "id": "XoV74L-xY0_X",
        "outputId": "81002a43-b7c0-46dd-d6d1-314367e1ddf6"
      },
      "execution_count": 65,
      "outputs": [
        {
          "output_type": "execute_result",
          "data": {
            "text/plain": [
              "Index(['TEMPERATURE', 'RELATIVE_HUMIDITY', 'SOLAR_RADIATION', 'PRECIPITATION',\n",
              "       'WIND_DIRECTION', 'FLOW_RATE', 'WINDSPEED_SCALAR',\n",
              "       'SHELTER_TEMPERATURE', 'NO', 'NOY', 'NOYDIF', 'SO2_GA', 'LATITUDE',\n",
              "       'LONGITUDE', 'ELEVATION', 'month', 'Agric', 'Forest', 'Range',\n",
              "       'Complex', 'Flat', 'Rolling'],\n",
              "      dtype='object')"
            ]
          },
          "metadata": {},
          "execution_count": 65
        }
      ]
    }
  ]
}