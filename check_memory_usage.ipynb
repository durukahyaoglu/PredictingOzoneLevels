{
  "nbformat": 4,
  "nbformat_minor": 0,
  "metadata": {
    "colab": {
      "provenance": [],
      "authorship_tag": "ABX9TyOb58JY0vP9esSQezJv1QMt",
      "include_colab_link": true
    },
    "kernelspec": {
      "name": "python3",
      "display_name": "Python 3"
    },
    "language_info": {
      "name": "python"
    }
  },
  "cells": [
    {
      "cell_type": "markdown",
      "metadata": {
        "id": "view-in-github",
        "colab_type": "text"
      },
      "source": [
        "<a href=\"https://colab.research.google.com/github/pakdaniel/MECS-4995-AML-Group-24/blob/main/check_memory_usage.ipynb\" target=\"_parent\"><img src=\"https://colab.research.google.com/assets/colab-badge.svg\" alt=\"Open In Colab\"/></a>"
      ]
    },
    {
      "cell_type": "code",
      "execution_count": 1,
      "metadata": {
        "colab": {
          "base_uri": "https://localhost:8080/"
        },
        "id": "nWyP9vG21e7t",
        "outputId": "bd131b81-d8fb-43f6-cc47-614c653ea56b"
      },
      "outputs": [
        {
          "output_type": "stream",
          "name": "stdout",
          "text": [
            "Requirement already satisfied: pandas in /usr/local/lib/python3.10/dist-packages (2.1.2)\n",
            "Requirement already satisfied: numpy<2,>=1.22.4 in /usr/local/lib/python3.10/dist-packages (from pandas) (1.23.5)\n",
            "Requirement already satisfied: python-dateutil>=2.8.2 in /usr/local/lib/python3.10/dist-packages (from pandas) (2.8.2)\n",
            "Requirement already satisfied: pytz>=2020.1 in /usr/local/lib/python3.10/dist-packages (from pandas) (2023.3.post1)\n",
            "Requirement already satisfied: tzdata>=2022.1 in /usr/local/lib/python3.10/dist-packages (from pandas) (2023.3)\n",
            "Requirement already satisfied: six>=1.5 in /usr/local/lib/python3.10/dist-packages (from python-dateutil>=2.8.2->pandas) (1.16.0)\n"
          ]
        }
      ],
      "source": [
        "%pip install pandas -U\n",
        "\n",
        "# https://github.com/huggingface/autotrain-advanced/issues/265"
      ]
    },
    {
      "cell_type": "code",
      "source": [
        "%pip install polars -U"
      ],
      "metadata": {
        "colab": {
          "base_uri": "https://localhost:8080/"
        },
        "id": "3g93PL1m5tOh",
        "outputId": "e912f2ec-6dc1-4900-e1c8-44b9c0b3ea89"
      },
      "execution_count": 1,
      "outputs": [
        {
          "output_type": "stream",
          "name": "stdout",
          "text": [
            "Requirement already satisfied: polars in /usr/local/lib/python3.10/dist-packages (0.19.12)\n"
          ]
        }
      ]
    },
    {
      "cell_type": "code",
      "source": [
        "import pandas as pd\n",
        "import numpy as np\n",
        "import os\n",
        "import glob\n",
        "\n",
        "assert pd.__version__ == \"2.1.2\""
      ],
      "metadata": {
        "id": "Kn_P7ui19162"
      },
      "execution_count": 1,
      "outputs": []
    },
    {
      "cell_type": "code",
      "source": [
        "sh = \"\"\"for y in {2013..2022}\n",
        "do\n",
        "    wget --no-check-certificate \"https://gaftp.epa.gov/castnet/CASTNET_Outgoing/data/metdata_$y.zip\"\n",
        "    mkdir -p metdata\n",
        "    unzip metdata_$y.zip -d metdata\n",
        "    rm metdata_$y.zip\n",
        "    sleep 1\n",
        "done\n",
        "\"\"\"\n",
        "with open(\"metdata.sh\", \"w\") as file:\n",
        "  file.write(sh)"
      ],
      "metadata": {
        "id": "R2F5Mrdr6i11"
      },
      "execution_count": 1,
      "outputs": []
    },
    {
      "cell_type": "code",
      "source": [
        "!bash metdata.sh"
      ],
      "metadata": {
        "id": "m7YTBrS_7DJa"
      },
      "execution_count": null,
      "outputs": []
    },
    {
      "cell_type": "code",
      "source": [
        "files = glob.glob(os.path.join(\"metdata\" , \"metdata_20[1-2][0-9].csv\"))\n",
        "res = 0\n",
        "for i in files:\n",
        "  info = os.stat(i)\n",
        "  res += info.st_size\n",
        "print(f\"Size of files is {res/1024**2:.2f} mb\")"
      ],
      "metadata": {
        "colab": {
          "base_uri": "https://localhost:8080/"
        },
        "id": "VuZz44zt95x5",
        "outputId": "235b06e4-8028-4fd3-fe82-ee66d7549a02"
      },
      "execution_count": 3,
      "outputs": [
        {
          "output_type": "stream",
          "name": "stdout",
          "text": [
            "Size of files is 874.88 mb\n"
          ]
        }
      ]
    },
    {
      "cell_type": "code",
      "source": [
        "# This uses 4.4 to 4.7 gb in RAM\n",
        "\n",
        "df_list = []\n",
        "dtypes = {\"SHELTER_TEMPERATURE\": np.float64,\n",
        "          \"SHELTER_TEMPERATURE_F\": str,\n",
        "          \"QA_CODE\": str}\n",
        "for f in files:\n",
        "    df = pd.read_csv(f, index_col=None, header=0, dtype=dtypes)\n",
        "    df_list.append(df)\n",
        "\n",
        "df = pd.concat(df_list, axis=0, ignore_index=True)\n",
        "\n",
        "df.shape"
      ],
      "metadata": {
        "colab": {
          "base_uri": "https://localhost:8080/"
        },
        "id": "8uxDSLGu7x98",
        "outputId": "1677fe71-9c21-406e-da68-359efcdd0d50"
      },
      "execution_count": 4,
      "outputs": [
        {
          "output_type": "execute_result",
          "data": {
            "text/plain": [
              "(8443813, 30)"
            ]
          },
          "metadata": {},
          "execution_count": 4
        }
      ]
    },
    {
      "cell_type": "code",
      "source": [
        "# This uses 2.7 to 3 gb in RAM\n",
        "df = pd.read_parquet(\"files/metdata_combined.snappy.parquet\",\n",
        "                     engine=\"pyarrow\",\n",
        "                     dtype_backend=\"pyarrow\")\n",
        "df.shape"
      ],
      "metadata": {
        "colab": {
          "base_uri": "https://localhost:8080/"
        },
        "id": "AIayehJe8nOR",
        "outputId": "aa9256f2-bfb7-4bd1-828a-5c6cef7c898d"
      },
      "execution_count": 2,
      "outputs": [
        {
          "output_type": "execute_result",
          "data": {
            "text/plain": [
              "(8443813, 31)"
            ]
          },
          "metadata": {},
          "execution_count": 2
        }
      ]
    },
    {
      "cell_type": "code",
      "source": [],
      "metadata": {
        "colab": {
          "base_uri": "https://localhost:8080/"
        },
        "id": "AS6r3VmB9Xc5",
        "outputId": "6e6c0066-f449-4d9f-9250-a15027db3ee5"
      },
      "execution_count": 6,
      "outputs": [
        {
          "output_type": "stream",
          "name": "stdout",
          "text": [
            "1\n"
          ]
        }
      ]
    },
    {
      "cell_type": "code",
      "source": [],
      "metadata": {
        "id": "Q0MOmL8x9XYA"
      },
      "execution_count": null,
      "outputs": []
    },
    {
      "cell_type": "code",
      "source": [],
      "metadata": {
        "id": "2cIR7nWV9XVZ"
      },
      "execution_count": null,
      "outputs": []
    },
    {
      "cell_type": "code",
      "source": [],
      "metadata": {
        "id": "UtqXJJRz9XS4"
      },
      "execution_count": null,
      "outputs": []
    },
    {
      "cell_type": "code",
      "source": [],
      "metadata": {
        "id": "bzOxsO2x9XQl"
      },
      "execution_count": null,
      "outputs": []
    },
    {
      "cell_type": "code",
      "source": [],
      "metadata": {
        "id": "io3M4tdF9XN_"
      },
      "execution_count": null,
      "outputs": []
    },
    {
      "cell_type": "code",
      "source": [],
      "metadata": {
        "id": "sMs1KDSG9XLs"
      },
      "execution_count": null,
      "outputs": []
    },
    {
      "cell_type": "code",
      "source": [],
      "metadata": {
        "id": "Kk4jNXB59XJW"
      },
      "execution_count": null,
      "outputs": []
    },
    {
      "cell_type": "code",
      "source": [],
      "metadata": {
        "id": "jWYig6Jc9XGw"
      },
      "execution_count": null,
      "outputs": []
    },
    {
      "cell_type": "code",
      "source": [],
      "metadata": {
        "id": "q4pY_f-H9XEK"
      },
      "execution_count": null,
      "outputs": []
    },
    {
      "cell_type": "code",
      "source": [],
      "metadata": {
        "id": "r_EUlMEB9XBc"
      },
      "execution_count": null,
      "outputs": []
    },
    {
      "cell_type": "code",
      "source": [],
      "metadata": {
        "id": "FTEnamYa9W-1"
      },
      "execution_count": null,
      "outputs": []
    }
  ]
}