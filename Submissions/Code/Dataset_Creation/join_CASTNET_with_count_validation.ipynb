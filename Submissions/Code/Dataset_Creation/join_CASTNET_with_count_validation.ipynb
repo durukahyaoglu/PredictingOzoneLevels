{
  "nbformat": 4,
  "nbformat_minor": 0,
  "metadata": {
    "colab": {
      "provenance": [],
      "authorship_tag": "ABX9TyP63xuFW5IkOQ/NeiRLro9r"
    },
    "kernelspec": {
      "name": "python3",
      "display_name": "Python 3"
    },
    "language_info": {
      "name": "python"
    }
  },
  "cells": [
    {
      "cell_type": "code",
      "execution_count": 1,
      "metadata": {
        "colab": {
          "base_uri": "https://localhost:8080/"
        },
        "id": "k5vj0fYvyHmb",
        "outputId": "6f07747f-2f40-489d-e441-8c7c95cb996c"
      },
      "outputs": [
        {
          "output_type": "stream",
          "name": "stdout",
          "text": [
            "Collecting pyspark\n",
            "  Downloading pyspark-3.5.0.tar.gz (316.9 MB)\n",
            "\u001b[2K     \u001b[90m━━━━━━━━━━━━━━━━━━━━━━━━━━━━━━━━━━━━━━━━\u001b[0m \u001b[32m316.9/316.9 MB\u001b[0m \u001b[31m2.4 MB/s\u001b[0m eta \u001b[36m0:00:00\u001b[0m\n",
            "\u001b[?25h  Preparing metadata (setup.py) ... \u001b[?25l\u001b[?25hdone\n",
            "Requirement already satisfied: py4j==0.10.9.7 in /usr/local/lib/python3.10/dist-packages (from pyspark) (0.10.9.7)\n",
            "Building wheels for collected packages: pyspark\n",
            "  Building wheel for pyspark (setup.py) ... \u001b[?25l\u001b[?25hdone\n",
            "  Created wheel for pyspark: filename=pyspark-3.5.0-py2.py3-none-any.whl size=317425344 sha256=23631ce0748d6f0e604139f23e08da0c5a2caa4014c641233850f6ea3302337e\n",
            "  Stored in directory: /root/.cache/pip/wheels/41/4e/10/c2cf2467f71c678cfc8a6b9ac9241e5e44a01940da8fbb17fc\n",
            "Successfully built pyspark\n",
            "Installing collected packages: pyspark\n",
            "Successfully installed pyspark-3.5.0\n",
            "Collecting findspark\n",
            "  Downloading findspark-2.0.1-py2.py3-none-any.whl (4.4 kB)\n",
            "Installing collected packages: findspark\n",
            "Successfully installed findspark-2.0.1\n"
          ]
        }
      ],
      "source": [
        "!pip install pyspark\n",
        "!pip install findspark"
      ]
    },
    {
      "cell_type": "code",
      "source": [
        "import findspark\n",
        "findspark.init()\n",
        "from pyspark.sql import SQLContext, SparkSession\n",
        "import pyspark.sql.functions as F\n",
        "from pyspark.sql.types import *\n",
        "from pyspark.sql.window import Window\n",
        "\n",
        "spark = (SparkSession\n",
        "         .builder\n",
        "         .master(\"local[*]\")\n",
        "         .appName(\"Combine CASTNET Files\")\n",
        "         .config(\"spark.ui.port\", \"4050\")\n",
        "         .getOrCreate())\n",
        "\n",
        "spark.conf.set(\"spark.sql.repl.eagerEval.enabled\", True)"
      ],
      "metadata": {
        "id": "585nxdUfcaf4"
      },
      "execution_count": 2,
      "outputs": []
    },
    {
      "cell_type": "code",
      "source": [
        "import os\n",
        "import shutil\n",
        "import sys\n",
        "import time\n",
        "import numpy as np\n",
        "import pandas as pd\n",
        "from google.colab import drive\n",
        "\n",
        "drive_root = \"/content/drive\"\n",
        "drive.mount(drive_root)\n",
        "\n",
        "file_directory = os.path.join(drive_root, \"MyDrive\", \"AML Group 24\", \"Files\")\n",
        "os.listdir(file_directory)\n",
        "\n",
        "FILE_OUTPUT = \"output\"\n",
        "if not os.path.exists(FILE_OUTPUT):\n",
        "    os.makedirs(FILE_OUTPUT)"
      ],
      "metadata": {
        "id": "Y4fmpFItSMly",
        "colab": {
          "base_uri": "https://localhost:8080/"
        },
        "outputId": "2b3fdc2b-653e-4670-c0ef-56fd5c86e3ac"
      },
      "execution_count": 4,
      "outputs": [
        {
          "output_type": "stream",
          "name": "stdout",
          "text": [
            "Mounted at /content/drive\n"
          ]
        }
      ]
    },
    {
      "cell_type": "code",
      "source": [
        "def save_df_to_parquet(df, output_folder):\n",
        "  df.coalesce(1).write.format(\"parquet\").mode(\"append\").save(os.path.join(FILE_OUTPUT, output_folder))\n",
        "\n",
        "  parquet_file = [i for i in os.listdir(os.path.join(FILE_OUTPUT, output_folder)) if i.endswith(\"parquet\")]\n",
        "  assert len(parquet_file) == 1, \"Did you run this cell multiple times?\"\n",
        "  parquet_file = parquet_file[0]\n",
        "\n",
        "  shutil.move(os.path.join(FILE_OUTPUT, output_folder, parquet_file), os.path.join(FILE_OUTPUT, f\"{output_folder}.snappy.parquet\"))\n",
        "  shutil.rmtree(os.path.join(FILE_OUTPUT, output_folder))\n",
        "\n",
        "  print(os.stat(os.path.join(FILE_OUTPUT, f\"{output_folder}.snappy.parquet\")).st_size/(1024**2))"
      ],
      "metadata": {
        "id": "7cCCTk2wM4wB"
      },
      "execution_count": 5,
      "outputs": []
    },
    {
      "cell_type": "markdown",
      "source": [
        "# Site"
      ],
      "metadata": {
        "id": "5T3VXUjkwxNt"
      }
    },
    {
      "cell_type": "code",
      "source": [
        "site_options = {\n",
        "    \"header\": True,\n",
        "}\n",
        "\n",
        "schema = StructType()\n",
        "schema.add(\"SITE_ID\", StringType(), False)\n",
        "schema.add(\"SITE_NUM\", DecimalType(38,0))\n",
        "schema.add(\"SITE_NAME\", StringType())\n",
        "schema.add(\"ACTIVE\", StringType())\n",
        "schema.add(\"INACTIVE\", StringType())\n",
        "schema.add(\"AGENCY\", StringType())\n",
        "schema.add(\"STATE\", StringType())\n",
        "schema.add(\"COUNTY\", StringType())\n",
        "schema.add(\"TIME_ZONE\", StringType())\n",
        "schema.add(\"LATITUDE\", DecimalType(14,6))\n",
        "schema.add(\"LONGITUDE\", DecimalType(14,6))\n",
        "schema.add(\"ELEVATION\", DecimalType(20,5))\n",
        "schema.add(\"MAPID\", StringType())\n",
        "schema.add(\"LAND_USE\", StringType())\n",
        "schema.add(\"TERRAIN\", StringType())\n",
        "schema.add(\"MLM\", StringType())\n",
        "schema.add(\"NADP_ID\", StringType())\n",
        "schema.add(\"NADP_DISTANCE\", DecimalType(12,4))\n",
        "schema.add(\"UPDATE_DATE\", StringType())\n",
        "\n",
        "site_file = os.path.join(file_directory, \"site.csv\")\n",
        "df_site = spark.read.format(\"csv\").schema(schema).options(**site_options).load(site_file)\n",
        "\n",
        "df_site.printSchema()\n",
        "\n",
        "\n",
        "site_columns_to_keep = [\"SITE_ID\", \"LATITUDE\", \"LONGITUDE\", \"ELEVATION\", \"LAND_USE\", \"TERRAIN\"]\n",
        "\n",
        "df_site = df_site.select([c for c in df_site.columns if c in site_columns_to_keep])\n",
        "\n",
        "df_site.printSchema()"
      ],
      "metadata": {
        "colab": {
          "base_uri": "https://localhost:8080/"
        },
        "id": "bwsf52UcvuUj",
        "outputId": "3fdb6a76-04d2-4935-a9e5-b0ecd9eacacf"
      },
      "execution_count": 12,
      "outputs": [
        {
          "output_type": "stream",
          "name": "stdout",
          "text": [
            "root\n",
            " |-- SITE_ID: string (nullable = true)\n",
            " |-- SITE_NUM: decimal(38,0) (nullable = true)\n",
            " |-- SITE_NAME: string (nullable = true)\n",
            " |-- ACTIVE: string (nullable = true)\n",
            " |-- INACTIVE: string (nullable = true)\n",
            " |-- AGENCY: string (nullable = true)\n",
            " |-- STATE: string (nullable = true)\n",
            " |-- COUNTY: string (nullable = true)\n",
            " |-- TIME_ZONE: string (nullable = true)\n",
            " |-- LATITUDE: decimal(14,6) (nullable = true)\n",
            " |-- LONGITUDE: decimal(14,6) (nullable = true)\n",
            " |-- ELEVATION: decimal(20,5) (nullable = true)\n",
            " |-- MAPID: string (nullable = true)\n",
            " |-- LAND_USE: string (nullable = true)\n",
            " |-- TERRAIN: string (nullable = true)\n",
            " |-- MLM: string (nullable = true)\n",
            " |-- NADP_ID: string (nullable = true)\n",
            " |-- NADP_DISTANCE: decimal(12,4) (nullable = true)\n",
            " |-- UPDATE_DATE: string (nullable = true)\n",
            "\n",
            "root\n",
            " |-- SITE_ID: string (nullable = true)\n",
            " |-- LATITUDE: decimal(14,6) (nullable = true)\n",
            " |-- LONGITUDE: decimal(14,6) (nullable = true)\n",
            " |-- ELEVATION: decimal(20,5) (nullable = true)\n",
            " |-- LAND_USE: string (nullable = true)\n",
            " |-- TERRAIN: string (nullable = true)\n",
            "\n"
          ]
        }
      ]
    },
    {
      "cell_type": "code",
      "source": [
        "display(df_site)"
      ],
      "metadata": {
        "colab": {
          "base_uri": "https://localhost:8080/",
          "height": 523
        },
        "id": "h57B3ZM5IA-Z",
        "outputId": "9439d558-ed42-48ec-9e76-c7516cf8f210"
      },
      "execution_count": 11,
      "outputs": [
        {
          "output_type": "display_data",
          "data": {
            "text/plain": [
              "+-------+---------+-----------+----------+-----------+-------+\n",
              "|SITE_ID| LATITUDE|  LONGITUDE| ELEVATION|   LAND_USE|TERRAIN|\n",
              "+-------+---------+-----------+----------+-----------+-------+\n",
              "| ABT147|41.840460| -72.010368| 202.00000|Urban/Agric|Rolling|\n",
              "| ACA416|44.377086| -68.260800| 158.00000|     Forest|Rolling|\n",
              "| ALB801|53.682400|-112.868000| 711.00000|     Forest|   Flat|\n",
              "| ALC188|30.701577| -94.674011| 105.00000|    Prairie|Rolling|\n",
              "| ALH157|38.869000| -89.622800| 164.00000|      Agric|   Flat|\n",
              "| ALH257|38.869001| -89.622815| 164.00000|      Agric|   Flat|\n",
              "| ALH557|38.869001| -89.622815| 164.00000|      Agric|   Flat|\n",
              "| ANA115|42.416636| -83.902180| 266.00000|     Forest|   Flat|\n",
              "| ANL146|41.700000| -87.990000| 229.00000|Urban/Agric|Rolling|\n",
              "| ARE128|39.923241| -77.307863| 266.00000|      Agric|Rolling|\n",
              "| ARE228|39.923241| -77.307863| 266.00000|     Forest|Rolling|\n",
              "| ARE528|39.923241| -77.307863| 266.00000|      Agric|Rolling|\n",
              "| ASH135|46.603832| -68.413227| 231.00000|      Agric|   Flat|\n",
              "| ASH235|46.603832| -68.413227| 231.00000|      Agric|   Flat|\n",
              "| BAS601|44.280000|-108.041100|1242.00000|    Prairie|Rolling|\n",
              "| BBE401|29.302651|-103.177813|1052.00000|     Forest|Complex|\n",
              "| BEL116|39.028177| -76.817127|  47.00000|      Range|   Flat|\n",
              "| BEL216|39.028177| -76.817127|  47.00000|      Range|   Flat|\n",
              "| BFT142|34.884668| -76.620666|   5.00000|      Agric|   Flat|\n",
              "| BUF603|44.144200|-106.108900|1324.00000|    Prairie|Rolling|\n",
              "+-------+---------+-----------+----------+-----------+-------+\n",
              "only showing top 20 rows"
            ],
            "text/html": [
              "<table border='1'>\n",
              "<tr><th>SITE_ID</th><th>LATITUDE</th><th>LONGITUDE</th><th>ELEVATION</th><th>LAND_USE</th><th>TERRAIN</th></tr>\n",
              "<tr><td>ABT147</td><td>41.840460</td><td>-72.010368</td><td>202.00000</td><td>Urban/Agric</td><td>Rolling</td></tr>\n",
              "<tr><td>ACA416</td><td>44.377086</td><td>-68.260800</td><td>158.00000</td><td>Forest</td><td>Rolling</td></tr>\n",
              "<tr><td>ALB801</td><td>53.682400</td><td>-112.868000</td><td>711.00000</td><td>Forest</td><td>Flat</td></tr>\n",
              "<tr><td>ALC188</td><td>30.701577</td><td>-94.674011</td><td>105.00000</td><td>Prairie</td><td>Rolling</td></tr>\n",
              "<tr><td>ALH157</td><td>38.869000</td><td>-89.622800</td><td>164.00000</td><td>Agric</td><td>Flat</td></tr>\n",
              "<tr><td>ALH257</td><td>38.869001</td><td>-89.622815</td><td>164.00000</td><td>Agric</td><td>Flat</td></tr>\n",
              "<tr><td>ALH557</td><td>38.869001</td><td>-89.622815</td><td>164.00000</td><td>Agric</td><td>Flat</td></tr>\n",
              "<tr><td>ANA115</td><td>42.416636</td><td>-83.902180</td><td>266.00000</td><td>Forest</td><td>Flat</td></tr>\n",
              "<tr><td>ANL146</td><td>41.700000</td><td>-87.990000</td><td>229.00000</td><td>Urban/Agric</td><td>Rolling</td></tr>\n",
              "<tr><td>ARE128</td><td>39.923241</td><td>-77.307863</td><td>266.00000</td><td>Agric</td><td>Rolling</td></tr>\n",
              "<tr><td>ARE228</td><td>39.923241</td><td>-77.307863</td><td>266.00000</td><td>Forest</td><td>Rolling</td></tr>\n",
              "<tr><td>ARE528</td><td>39.923241</td><td>-77.307863</td><td>266.00000</td><td>Agric</td><td>Rolling</td></tr>\n",
              "<tr><td>ASH135</td><td>46.603832</td><td>-68.413227</td><td>231.00000</td><td>Agric</td><td>Flat</td></tr>\n",
              "<tr><td>ASH235</td><td>46.603832</td><td>-68.413227</td><td>231.00000</td><td>Agric</td><td>Flat</td></tr>\n",
              "<tr><td>BAS601</td><td>44.280000</td><td>-108.041100</td><td>1242.00000</td><td>Prairie</td><td>Rolling</td></tr>\n",
              "<tr><td>BBE401</td><td>29.302651</td><td>-103.177813</td><td>1052.00000</td><td>Forest</td><td>Complex</td></tr>\n",
              "<tr><td>BEL116</td><td>39.028177</td><td>-76.817127</td><td>47.00000</td><td>Range</td><td>Flat</td></tr>\n",
              "<tr><td>BEL216</td><td>39.028177</td><td>-76.817127</td><td>47.00000</td><td>Range</td><td>Flat</td></tr>\n",
              "<tr><td>BFT142</td><td>34.884668</td><td>-76.620666</td><td>5.00000</td><td>Agric</td><td>Flat</td></tr>\n",
              "<tr><td>BUF603</td><td>44.144200</td><td>-106.108900</td><td>1324.00000</td><td>Prairie</td><td>Rolling</td></tr>\n",
              "</table>\n",
              "only showing top 20 rows\n"
            ]
          },
          "metadata": {}
        }
      ]
    },
    {
      "cell_type": "code",
      "source": [
        "output_folder = \"site\"\n",
        "save_df_to_parquet(df_site, output_folder)"
      ],
      "metadata": {
        "colab": {
          "base_uri": "https://localhost:8080/"
        },
        "id": "F2lDgmZPJy09",
        "outputId": "617b5a45-0477-448a-dab9-a82708e69784"
      },
      "execution_count": 32,
      "outputs": [
        {
          "output_type": "stream",
          "name": "stdout",
          "text": [
            "0.005766868591308594\n"
          ]
        }
      ]
    },
    {
      "cell_type": "markdown",
      "source": [
        "# Hourly Gas"
      ],
      "metadata": {
        "id": "f5Q6kSpgwzOX"
      }
    },
    {
      "cell_type": "code",
      "source": [
        "gas_file = os.path.join(file_directory, \"hourly_gas_combined.snappy.parquet\")\n",
        "df_gas = spark.read.format(\"parquet\").load(gas_file)\n",
        "\n",
        "# print(df_gas.count())\n",
        "\n",
        "df_gas = df_gas.where(~F.col(\"PARAMETER\").isin([\"O3_23M\", \"TEMP_23M\", \"O3_10M\", \"O3_14M\", \"O3_17M\", \"O3_20M\", \"O3_28M\", \"O3_2M\", \"O3_6M\", \"TEMP_2M\"]))\n",
        "\n",
        "df_gas = df_gas.where(F.col(\"QA_CODE\").isin([\"1\", \"3\"]))\n",
        "df_gas = df_gas.where(F.col(\"VALUE_F\").isNull() | F.col(\"VALUE_F\").isin(\"<\", \"A\", \"S\", \"U\", \"Z\"))\n",
        "\n",
        "# print(df_gas.count())\n",
        "\n",
        "df_gas = df_gas.select([\"SITE_ID\", \"DATE_TIME\", \"PARAMETER\", \"VALUE\"]) # needs to be pivoted\n",
        "print(f\"Original Count: {df_gas.count()}\")\n",
        "\n",
        "df_just_2_pk = df_gas.select(\"SITE_ID\", \"DATE_TIME\").distinct()\n",
        "print(f\"Number of rows in pivot: {df_just_2_pk.count()}\")"
      ],
      "metadata": {
        "colab": {
          "base_uri": "https://localhost:8080/"
        },
        "id": "4BiUSw6ewYPW",
        "outputId": "a348dfae-592f-4738-c6f6-922525ccab94"
      },
      "execution_count": 13,
      "outputs": [
        {
          "output_type": "stream",
          "name": "stdout",
          "text": [
            "Original Count: 2475297\n",
            "Number of rows in pivot: 624865\n"
          ]
        }
      ]
    },
    {
      "cell_type": "code",
      "source": [
        "df_gas_pivot = df_gas.groupBy(\"SITE_ID\", \"DATE_TIME\").pivot(\"PARAMETER\").sum(\"VALUE\")\n",
        "print(f\"Pivot Count: {df_gas_pivot.count()}\")"
      ],
      "metadata": {
        "colab": {
          "base_uri": "https://localhost:8080/"
        },
        "id": "9sZNmmNlFYub",
        "outputId": "9d7debab-5145-497e-f0bf-cb9c5781cc07"
      },
      "execution_count": 14,
      "outputs": [
        {
          "output_type": "stream",
          "name": "stdout",
          "text": [
            "Pivot Count: 624865\n"
          ]
        }
      ]
    },
    {
      "cell_type": "code",
      "source": [
        "output_folder = \"gas_pivot\"\n",
        "save_df_to_parquet(df_gas_pivot, output_folder)"
      ],
      "metadata": {
        "colab": {
          "base_uri": "https://localhost:8080/"
        },
        "id": "vBtRtG0aJKfY",
        "outputId": "51dff87c-312b-4b30-8193-974ec4a2eea3"
      },
      "execution_count": 15,
      "outputs": [
        {
          "output_type": "stream",
          "name": "stdout",
          "text": [
            "10.484942436218262\n"
          ]
        }
      ]
    },
    {
      "cell_type": "code",
      "source": [
        "del df_just_2_pk\n",
        "del df_gas_pivot"
      ],
      "metadata": {
        "id": "KRhiNY1dIhIi"
      },
      "execution_count": 16,
      "outputs": []
    },
    {
      "cell_type": "code",
      "source": [
        "spark.read.format(\"parquet\").load(\"output/gas_pivot.snappy.parquet\").count()"
      ],
      "metadata": {
        "colab": {
          "base_uri": "https://localhost:8080/"
        },
        "id": "4XNTgns1NL4I",
        "outputId": "86c0f6bf-9869-4f56-a0a8-7b9086d05d9c"
      },
      "execution_count": 17,
      "outputs": [
        {
          "output_type": "execute_result",
          "data": {
            "text/plain": [
              "624865"
            ]
          },
          "metadata": {},
          "execution_count": 17
        }
      ]
    },
    {
      "cell_type": "markdown",
      "source": [
        "# Met"
      ],
      "metadata": {
        "id": "zpEHk9De1rkN"
      }
    },
    {
      "cell_type": "markdown",
      "source": [
        "* We will just filter our label OZONE by the OZONE_F flag for valid date\n",
        "* For deeper analysis, we will see which features we can completely drop before we apply the corresponding _F filter"
      ],
      "metadata": {
        "id": "aQEjSnaF_URu"
      }
    },
    {
      "cell_type": "code",
      "source": [
        "met_file = os.path.join(file_directory, \"metdata_combined.snappy.parquet\")\n",
        "df_met = spark.read.format(\"parquet\").load(met_file)\n",
        "\n",
        "# print(df_met.count())\n",
        "\n",
        "df_met = df_met.filter(F.col(\"OZONE_F\").isNull() | F.col(\"OZONE_F\").isin([\"<\", \"E\", \"K\", \"S\", \"^\", \"_\"]))\n",
        "# print(df_met.count())\n",
        "\n",
        "df_met = df_met.where(F.col(\"QA_CODE\") != \"X\")\n",
        "\n",
        "print(df_met.count())\n",
        "\n",
        "# Other _F\n",
        "#~ (['&', '<', 'A', 'E', 'K', 'Q', 'S', 'W', 'Y', '^', '_']"
      ],
      "metadata": {
        "id": "WC-v1hSm1rM1",
        "colab": {
          "base_uri": "https://localhost:8080/"
        },
        "outputId": "15eb5929-071c-4896-cb81-5afa9fa06cec"
      },
      "execution_count": 18,
      "outputs": [
        {
          "output_type": "stream",
          "name": "stdout",
          "text": [
            "7017729\n"
          ]
        }
      ]
    },
    {
      "cell_type": "code",
      "source": [
        "output_folder = \"met\"\n",
        "save_df_to_parquet(df_met, output_folder)"
      ],
      "metadata": {
        "colab": {
          "base_uri": "https://localhost:8080/"
        },
        "id": "VvBABVcPDA3W",
        "outputId": "f10dc805-2b78-46de-8e03-d33388a60c22"
      },
      "execution_count": 19,
      "outputs": [
        {
          "output_type": "stream",
          "name": "stdout",
          "text": [
            "92.95935249328613\n"
          ]
        }
      ]
    },
    {
      "cell_type": "code",
      "source": [
        "spark.read.format(\"parquet\").load(\"output/met.snappy.parquet\").count()"
      ],
      "metadata": {
        "colab": {
          "base_uri": "https://localhost:8080/"
        },
        "id": "_uIp1btsNtEy",
        "outputId": "708460cd-f772-46ee-e2ff-626b2760e0d0"
      },
      "execution_count": 20,
      "outputs": [
        {
          "output_type": "execute_result",
          "data": {
            "text/plain": [
              "7017729"
            ]
          },
          "metadata": {},
          "execution_count": 20
        }
      ]
    },
    {
      "cell_type": "code",
      "source": [
        "del df_met"
      ],
      "metadata": {
        "id": "O-1vcTusN7r5"
      },
      "execution_count": 21,
      "outputs": []
    },
    {
      "cell_type": "markdown",
      "source": [
        "# Join met with gas"
      ],
      "metadata": {
        "id": "_NDF1bz9Lces"
      }
    },
    {
      "cell_type": "code",
      "source": [
        "df_gas_pivot = spark.read.format(\"parquet\").load(os.path.join(\"output\", \"gas_pivot.snappy.parquet\"))\n",
        "df_met = spark.read.format(\"parquet\").load(os.path.join(\"output\", \"met.snappy.parquet\"))\n",
        "\n",
        "df_met_gas = df_met.join(df_gas_pivot, how=\"inner\", on=[\"SITE_ID\", \"DATE_TIME\"])\n",
        "\n",
        "df_met_gas.count()"
      ],
      "metadata": {
        "colab": {
          "base_uri": "https://localhost:8080/"
        },
        "id": "JMVk3nFgJ_7r",
        "outputId": "935b894b-39d6-4585-8c08-519c7741e3b1"
      },
      "execution_count": 22,
      "outputs": [
        {
          "output_type": "execute_result",
          "data": {
            "text/plain": [
              "574851"
            ]
          },
          "metadata": {},
          "execution_count": 22
        }
      ]
    },
    {
      "cell_type": "code",
      "source": [
        "len(df_met_gas.columns)"
      ],
      "metadata": {
        "colab": {
          "base_uri": "https://localhost:8080/"
        },
        "id": "D1LfdwArOr1g",
        "outputId": "8bda208c-ac35-4b73-e475-e1544495d616"
      },
      "execution_count": 23,
      "outputs": [
        {
          "output_type": "execute_result",
          "data": {
            "text/plain": [
              "46"
            ]
          },
          "metadata": {},
          "execution_count": 23
        }
      ]
    },
    {
      "cell_type": "code",
      "source": [
        "output_folder = \"met_gas\"\n",
        "save_df_to_parquet(df_met_gas, output_folder)"
      ],
      "metadata": {
        "colab": {
          "base_uri": "https://localhost:8080/"
        },
        "id": "qAOUZj54OWtR",
        "outputId": "e64a76fd-c6ef-43c8-b4d6-71e1f1b783fd"
      },
      "execution_count": 24,
      "outputs": [
        {
          "output_type": "stream",
          "name": "stdout",
          "text": [
            "17.029431343078613\n"
          ]
        }
      ]
    },
    {
      "cell_type": "code",
      "source": [
        "del df_met_gas"
      ],
      "metadata": {
        "id": "YlERiac-JEZG"
      },
      "execution_count": 25,
      "outputs": []
    },
    {
      "cell_type": "code",
      "source": [
        "spark.read.format(\"parquet\").load(\"output/met_gas.snappy.parquet\").count()"
      ],
      "metadata": {
        "colab": {
          "base_uri": "https://localhost:8080/"
        },
        "id": "tulyhxMdOdX9",
        "outputId": "b0c47ece-a931-4d7e-b6e4-f19d0f52a914"
      },
      "execution_count": 26,
      "outputs": [
        {
          "output_type": "execute_result",
          "data": {
            "text/plain": [
              "574851"
            ]
          },
          "metadata": {},
          "execution_count": 26
        }
      ]
    },
    {
      "cell_type": "markdown",
      "source": [
        "# Join met with gas with site"
      ],
      "metadata": {
        "id": "YN3Ia6MVLkwN"
      }
    },
    {
      "cell_type": "code",
      "source": [
        "met_gas_file = os.path.join(\"output\", \"met_gas.snappy.parquet\")\n",
        "df_met_gas = spark.read.format(\"parquet\").load(met_gas_file)\n",
        "\n",
        "df_met_gas_site = df_met_gas.join(df_site, how=\"inner\", on=[\"SITE_ID\"])\n",
        "df_met_gas_site.count()"
      ],
      "metadata": {
        "colab": {
          "base_uri": "https://localhost:8080/"
        },
        "id": "uoQtvV9mLnVx",
        "outputId": "2e458e7c-a633-4c96-81f3-7f74fb31ec48"
      },
      "execution_count": 27,
      "outputs": [
        {
          "output_type": "execute_result",
          "data": {
            "text/plain": [
              "574851"
            ]
          },
          "metadata": {},
          "execution_count": 27
        }
      ]
    },
    {
      "cell_type": "code",
      "source": [
        "df_met_gas_site.printSchema()"
      ],
      "metadata": {
        "colab": {
          "base_uri": "https://localhost:8080/"
        },
        "id": "HSLpZtQwL-gr",
        "outputId": "06304d54-211d-43e8-d8d6-1d88b4280080"
      },
      "execution_count": 28,
      "outputs": [
        {
          "output_type": "stream",
          "name": "stdout",
          "text": [
            "root\n",
            " |-- SITE_ID: string (nullable = true)\n",
            " |-- DATE_TIME: timestamp (nullable = true)\n",
            " |-- TEMPERATURE: decimal(16,4) (nullable = true)\n",
            " |-- TEMPERATURE_F: string (nullable = true)\n",
            " |-- TEMPERATURE_DELTA: decimal(16,4) (nullable = true)\n",
            " |-- TEMPERATURE_DELTA_F: string (nullable = true)\n",
            " |-- RELATIVE_HUMIDITY: decimal(16,4) (nullable = true)\n",
            " |-- RELATIVE_HUMIDITY_F: string (nullable = true)\n",
            " |-- SOLAR_RADIATION: decimal(16,4) (nullable = true)\n",
            " |-- SOLAR_RADIATION_F: string (nullable = true)\n",
            " |-- OZONE: decimal(16,4) (nullable = true)\n",
            " |-- OZONE_F: string (nullable = true)\n",
            " |-- PRECIPITATION: decimal(16,4) (nullable = true)\n",
            " |-- PRECIPITATION_F: string (nullable = true)\n",
            " |-- WINDSPEED: decimal(16,4) (nullable = true)\n",
            " |-- WINDSPEED_F: string (nullable = true)\n",
            " |-- WIND_DIRECTION: decimal(16,4) (nullable = true)\n",
            " |-- WIND_DIRECTION_F: string (nullable = true)\n",
            " |-- SIGMA_THETA: decimal(16,4) (nullable = true)\n",
            " |-- SIGMA_THETA_F: string (nullable = true)\n",
            " |-- FLOW_RATE: decimal(16,4) (nullable = true)\n",
            " |-- FLOW_RATE_F: string (nullable = true)\n",
            " |-- WINDSPEED_SCALAR: decimal(16,4) (nullable = true)\n",
            " |-- WINDSPEED_SCALAR_F: string (nullable = true)\n",
            " |-- WETNESS: decimal(16,4) (nullable = true)\n",
            " |-- WETNESS_F: string (nullable = true)\n",
            " |-- SHELTER_TEMPERATURE: decimal(16,4) (nullable = true)\n",
            " |-- SHELTER_TEMPERATURE_F: string (nullable = true)\n",
            " |-- QA_CODE: string (nullable = true)\n",
            " |-- UPDATE_DATE: timestamp (nullable = true)\n",
            " |-- Filename: string (nullable = true)\n",
            " |-- CO: decimal(26,4) (nullable = true)\n",
            " |-- FLOW_23M: decimal(26,4) (nullable = true)\n",
            " |-- FLOW_2M: decimal(26,4) (nullable = true)\n",
            " |-- HNO3: decimal(26,4) (nullable = true)\n",
            " |-- NH3: decimal(26,4) (nullable = true)\n",
            " |-- NO: decimal(26,4) (nullable = true)\n",
            " |-- NO2_TRUE: decimal(26,4) (nullable = true)\n",
            " |-- NOX: decimal(26,4) (nullable = true)\n",
            " |-- NOXDIF: decimal(26,4) (nullable = true)\n",
            " |-- NOX_TRUE: decimal(26,4) (nullable = true)\n",
            " |-- NOY: decimal(26,4) (nullable = true)\n",
            " |-- NOYDIF: decimal(26,4) (nullable = true)\n",
            " |-- NOY_MINUS: decimal(26,4) (nullable = true)\n",
            " |-- SO2_GA: decimal(26,4) (nullable = true)\n",
            " |-- TNX: decimal(26,4) (nullable = true)\n",
            " |-- LATITUDE: decimal(14,6) (nullable = true)\n",
            " |-- LONGITUDE: decimal(14,6) (nullable = true)\n",
            " |-- ELEVATION: decimal(20,5) (nullable = true)\n",
            " |-- LAND_USE: string (nullable = true)\n",
            " |-- TERRAIN: string (nullable = true)\n",
            "\n"
          ]
        }
      ]
    },
    {
      "cell_type": "code",
      "source": [
        "output_folder = \"met_gas_site\"\n",
        "save_df_to_parquet(df_met_gas_site, output_folder)"
      ],
      "metadata": {
        "colab": {
          "base_uri": "https://localhost:8080/"
        },
        "id": "KSigM5x3MDLg",
        "outputId": "82f66f49-ea6f-47ea-ee37-7b62506a82a4"
      },
      "execution_count": 29,
      "outputs": [
        {
          "output_type": "stream",
          "name": "stdout",
          "text": [
            "17.274246215820312\n"
          ]
        }
      ]
    },
    {
      "cell_type": "code",
      "source": [
        "spark.read.format(\"parquet\").load(\"output/met_gas_site.snappy.parquet\").count()"
      ],
      "metadata": {
        "colab": {
          "base_uri": "https://localhost:8080/"
        },
        "id": "Z0y_YQntMR7L",
        "outputId": "c9ee93b5-433a-4f4d-97cf-12396e32e30f"
      },
      "execution_count": 30,
      "outputs": [
        {
          "output_type": "execute_result",
          "data": {
            "text/plain": [
              "574851"
            ]
          },
          "metadata": {},
          "execution_count": 30
        }
      ]
    },
    {
      "cell_type": "code",
      "source": [
        "result = spark.read.format(\"parquet\").load(\"output/met_gas_site.snappy.parquet\")\n",
        "display(result)"
      ],
      "metadata": {
        "colab": {
          "base_uri": "https://localhost:8080/",
          "height": 891
        },
        "id": "EWKFwl09MR4q",
        "outputId": "b22da806-2903-4ae8-dfed-dc41ab36bddf"
      },
      "execution_count": 31,
      "outputs": [
        {
          "output_type": "display_data",
          "data": {
            "text/plain": [
              "+-------+-------------------+-----------+-------------+-----------------+-------------------+-----------------+-------------------+---------------+-----------------+-------+-------+-------------+---------------+---------+-----------+--------------+----------------+-----------+-------------+---------+-----------+----------------+------------------+-------+---------+-------------------+---------------------+-------+-------------------+----------------+----+--------+-------+----+----+-------+--------+----+------+--------+----+------+---------+------+----+---------+----------+---------+--------+-------+\n",
              "|SITE_ID|          DATE_TIME|TEMPERATURE|TEMPERATURE_F|TEMPERATURE_DELTA|TEMPERATURE_DELTA_F|RELATIVE_HUMIDITY|RELATIVE_HUMIDITY_F|SOLAR_RADIATION|SOLAR_RADIATION_F|  OZONE|OZONE_F|PRECIPITATION|PRECIPITATION_F|WINDSPEED|WINDSPEED_F|WIND_DIRECTION|WIND_DIRECTION_F|SIGMA_THETA|SIGMA_THETA_F|FLOW_RATE|FLOW_RATE_F|WINDSPEED_SCALAR|WINDSPEED_SCALAR_F|WETNESS|WETNESS_F|SHELTER_TEMPERATURE|SHELTER_TEMPERATURE_F|QA_CODE|        UPDATE_DATE|        Filename|  CO|FLOW_23M|FLOW_2M|HNO3| NH3|     NO|NO2_TRUE| NOX|NOXDIF|NOX_TRUE| NOY|NOYDIF|NOY_MINUS|SO2_GA| TNX| LATITUDE| LONGITUDE|ELEVATION|LAND_USE|TERRAIN|\n",
              "+-------+-------------------+-----------+-------------+-----------------+-------------------+-----------------+-------------------+---------------+-----------------+-------+-------+-------------+---------------+---------+-----------+--------------+----------------+-----------+-------------+---------+-----------+----------------+------------------+-------+---------+-------------------+---------------------+-------+-------------------+----------------+----+--------+-------+----+----+-------+--------+----+------+--------+----+------+---------+------+----+---------+----------+---------+--------+-------+\n",
              "| BEL116|2013-01-01 22:00:00|     3.8590|         NULL|           0.0440|               NULL|          67.7900|               NULL|         0.4750|             NULL|23.3200|   NULL|       0.0000|           NULL|   1.0080|       NULL|      318.5000|            NULL|    36.9700|         NULL|   1.5150|       NULL|          1.1930|              NULL| 0.0000|     NULL|            27.0500|                 NULL|      3|2013-01-01 22:00:00|metdata_2013.csv|NULL|    NULL|   NULL|NULL|NULL| 0.0290|    NULL|NULL|  NULL|    NULL|NULL|  NULL|     NULL|0.9990|NULL|39.028177|-76.817127| 47.00000|   Range|   Flat|\n",
              "| BEL116|2013-01-02 03:00:00|     1.5730|         NULL|           0.0570|               NULL|          63.0100|               NULL|         0.4710|             NULL|30.5300|   NULL|       0.0000|           NULL|   0.7250|       NULL|        5.0380|            NULL|    38.4400|         NULL|   1.5150|       NULL|          0.8690|              NULL| 0.0000|     NULL|            26.5600|                 NULL|      3|2013-01-02 03:00:00|metdata_2013.csv|NULL|    NULL|   NULL|NULL|NULL| 0.0250|    NULL|NULL|  NULL|    NULL|NULL|  NULL|     NULL|2.3820|NULL|39.028177|-76.817127| 47.00000|   Range|   Flat|\n",
              "| BEL116|2013-01-02 07:00:00|    -0.3470|         NULL|           0.1750|               NULL|          64.3200|               NULL|         9.4500|             NULL|28.3700|   NULL|       0.0000|           NULL|   0.6740|       NULL|      352.5000|            NULL|    34.3200|         NULL|   1.5150|       NULL|          0.7860|              NULL| 0.0000|     NULL|            25.6900|                 NULL|      3|2013-01-02 07:00:00|metdata_2013.csv|NULL|    NULL|   NULL|NULL|NULL| 0.0310|    NULL|NULL|  NULL|    NULL|NULL|  NULL|     NULL|2.9260|NULL|39.028177|-76.817127| 47.00000|   Range|   Flat|\n",
              "| BEL116|2013-01-02 08:00:00|    -0.4400|         NULL|           0.0530|               NULL|          64.2200|               NULL|       106.4000|             NULL|26.0000|   NULL|       0.0000|           NULL|   0.8180|       NULL|      316.4000|            NULL|    34.0600|         NULL|   1.5150|       NULL|          0.9410|              NULL| 0.0000|     NULL|            25.3400|                 NULL|      3|2013-01-02 08:00:00|metdata_2013.csv|NULL|    NULL|   NULL|NULL|NULL| 0.7330|    NULL|NULL|  NULL|    NULL|NULL|  NULL|     NULL|2.8350|NULL|39.028177|-76.817127| 47.00000|   Range|   Flat|\n",
              "| BEL116|2013-01-02 15:00:00|     1.4860|         NULL|          -0.1930|               NULL|          44.6300|                  S|       182.8000|             NULL|33.6900|   NULL|       0.0000|           NULL|   1.1140|       NULL|      344.2000|            NULL|    51.0900|         NULL|   1.5150|       NULL|          1.6140|              NULL| 0.0000|     NULL|            26.6900|                 NULL|      3|2013-01-02 15:00:00|metdata_2013.csv|NULL|    NULL|   NULL|NULL|NULL| 0.7130|    NULL|NULL|  NULL|    NULL|NULL|  NULL|     NULL|1.3170|NULL|39.028177|-76.817127| 47.00000|   Range|   Flat|\n",
              "| BEL116|2013-01-03 05:00:00|    -4.1270|         NULL|           0.8360|               NULL|          72.7900|               NULL|         0.4310|             NULL|16.1500|   NULL|       0.0000|           NULL|   0.1280|       NULL|       58.4300|            NULL|    26.9800|         NULL|   1.5150|       NULL|          0.1550|              NULL| 0.0000|     NULL|            21.0500|                 NULL|      3|2013-01-03 05:00:00|metdata_2013.csv|NULL|    NULL|   NULL|NULL|NULL|-0.1450|    NULL|NULL|  NULL|    NULL|NULL|  NULL|     NULL|1.1050|NULL|39.028177|-76.817127| 47.00000|   Range|   Flat|\n",
              "| BEL116|2013-01-03 07:00:00|    -6.6340|         NULL|           0.9130|               NULL|          89.9000|               NULL|         8.1600|             NULL| 9.4100|   NULL|       0.0000|           NULL|   0.0560|       NULL|      189.2000|            NULL|    40.6700|         NULL|   1.5150|       NULL|          0.0950|              NULL| 0.0000|     NULL|            20.2300|                 NULL|      3|2013-01-03 07:00:00|metdata_2013.csv|NULL|    NULL|   NULL|NULL|NULL| 0.1990|    NULL|NULL|  NULL|    NULL|NULL|  NULL|     NULL|0.3450|NULL|39.028177|-76.817127| 47.00000|   Range|   Flat|\n",
              "| BEL116|2013-01-03 13:00:00|     1.9400|         NULL|          -0.5210|               NULL|          46.8700|                  S|       347.6000|             NULL|27.5900|   NULL|       0.0000|           NULL|   2.6770|       NULL|      257.6000|            NULL|    20.7400|         NULL|   1.5150|       NULL|          2.8360|              NULL| 0.0000|     NULL|            23.9700|                 NULL|      3|2013-01-03 13:00:00|metdata_2013.csv|NULL|    NULL|   NULL|NULL|NULL| 4.2330|    NULL|NULL|  NULL|    NULL|NULL|  NULL|     NULL|1.9130|NULL|39.028177|-76.817127| 47.00000|   Range|   Flat|\n",
              "| BEL116|2013-01-03 15:00:00|     3.0470|         NULL|          -0.2550|               NULL|          42.1200|                  S|       215.0000|             NULL|29.6400|   NULL|       0.0000|           NULL|   3.0220|       NULL|      250.3000|            NULL|    13.3000|         NULL|   1.5150|       NULL|          3.1190|              NULL| 0.0000|     NULL|            25.1300|                 NULL|      3|2013-01-03 15:00:00|metdata_2013.csv|NULL|    NULL|   NULL|NULL|NULL| 2.1830|    NULL|NULL|  NULL|    NULL|NULL|  NULL|     NULL|1.2930|NULL|39.028177|-76.817127| 47.00000|   Range|   Flat|\n",
              "| BEL116|2013-01-03 17:00:00|    -0.0860|         NULL|           1.3010|               NULL|          59.2700|               NULL|         1.1100|             NULL|15.1700|   NULL|       0.0000|           NULL|   0.1830|       NULL|      171.8000|            NULL|    48.8300|         NULL|   1.5150|       NULL|          0.4910|              NULL| 0.0000|     NULL|            25.0200|                 NULL|      3|2013-01-03 17:00:00|metdata_2013.csv|NULL|    NULL|   NULL|NULL|NULL| 0.0330|    NULL|NULL|  NULL|    NULL|NULL|  NULL|     NULL|0.9950|NULL|39.028177|-76.817127| 47.00000|   Range|   Flat|\n",
              "| BEL116|2013-01-03 18:00:00|    -1.3640|         NULL|           1.7560|               NULL|          67.0800|               NULL|         0.4540|             NULL| 7.3410|   NULL|       0.0000|           NULL|   0.0460|       NULL|      152.4000|            NULL|    50.8000|         NULL|   1.5150|       NULL|          0.3690|              NULL| 0.0000|     NULL|            24.2900|                 NULL|      3|2013-01-03 18:00:00|metdata_2013.csv|NULL|    NULL|   NULL|NULL|NULL| 0.1870|    NULL|NULL|  NULL|    NULL|NULL|  NULL|     NULL|0.8850|NULL|39.028177|-76.817127| 47.00000|   Range|   Flat|\n",
              "| BEL116|2013-01-03 19:00:00|    -1.9830|         NULL|           1.5390|               NULL|          71.7600|               NULL|         0.4500|             NULL| 2.8580|   NULL|       0.0000|           NULL|   0.2650|       NULL|       78.6100|            NULL|    56.5700|         NULL|   1.5150|       NULL|          0.3950|              NULL| 0.0000|     NULL|            23.6000|                 NULL|      3|2013-01-03 19:00:00|metdata_2013.csv|NULL|    NULL|   NULL|NULL|NULL| 0.9360|    NULL|NULL|  NULL|    NULL|NULL|  NULL|     NULL|0.8330|NULL|39.028177|-76.817127| 47.00000|   Range|   Flat|\n",
              "| BEL116|2013-01-04 01:00:00|    -2.2940|         NULL|           2.1860|               NULL|          75.3300|               NULL|         0.4280|             NULL| 7.7670|      <|       0.0000|           NULL|   0.6340|       NULL|      228.9000|            NULL|    66.6200|         NULL|   1.5150|       NULL|          1.1600|              NULL| 0.0000|     NULL|            20.9700|                 NULL|      3|2013-01-04 01:00:00|metdata_2013.csv|NULL|    NULL|   NULL|NULL|NULL| 0.2170|    NULL|NULL|  NULL|    NULL|NULL|  NULL|     NULL|1.4780|NULL|39.028177|-76.817127| 47.00000|   Range|   Flat|\n",
              "| BEL116|2013-01-05 12:00:00|     5.1090|         NULL|          -0.6780|               NULL|          47.9900|                  S|       492.5000|             NULL|35.5700|   NULL|       0.0000|           NULL|   2.5920|       NULL|      268.9000|            NULL|    26.7000|         NULL|   1.5150|       NULL|          2.8790|              NULL| 0.0000|     NULL|            26.5800|                 NULL|      3|2013-01-05 12:00:00|metdata_2013.csv|NULL|    NULL|   NULL|NULL|NULL| 0.8230|    NULL|NULL|  NULL|    NULL|NULL|  NULL|     NULL|1.6750|NULL|39.028177|-76.817127| 47.00000|   Range|   Flat|\n",
              "| BEL116|2013-01-05 15:00:00|     5.7740|         NULL|          -0.1830|               NULL|          46.2400|                  S|       169.2000|             NULL|35.0400|   NULL|       0.0000|           NULL|   1.8340|       NULL|      248.2000|            NULL|    18.9300|         NULL|   1.5150|       NULL|          1.9540|              NULL| 0.0000|     NULL|            26.3800|                 NULL|      3|2013-01-05 15:00:00|metdata_2013.csv|NULL|    NULL|   NULL|NULL|NULL| 0.6980|    NULL|NULL|  NULL|    NULL|NULL|  NULL|     NULL|1.7120|NULL|39.028177|-76.817127| 47.00000|   Range|   Flat|\n",
              "| BEL116|2013-01-06 14:00:00|     9.8900|         NULL|          -0.4540|               NULL|          42.5600|                  S|       319.2000|             NULL|36.1800|   NULL|       0.0000|           NULL|   2.2060|       NULL|      235.4000|            NULL|    27.8300|         NULL|   1.5150|       NULL|          2.4410|              NULL| 0.0000|     NULL|            26.1900|                 NULL|      3|2013-01-06 14:00:00|metdata_2013.csv|NULL|    NULL|   NULL|NULL|NULL| 1.3250|    NULL|NULL|  NULL|    NULL|NULL|  NULL|     NULL|0.5910|NULL|39.028177|-76.817127| 47.00000|   Range|   Flat|\n",
              "| BEL116|2013-01-07 04:00:00|     6.0630|         NULL|           0.0680|               NULL|          58.3900|                  S|         0.4740|             NULL|30.7700|   NULL|       0.0000|           NULL|   2.8900|       NULL|      286.0000|            NULL|    22.3900|         NULL|   1.5150|       NULL|          3.0790|              NULL| 0.0000|     NULL|            26.5700|                 NULL|      3|2013-01-07 04:00:00|metdata_2013.csv|NULL|    NULL|   NULL|NULL|NULL| 0.0330|    NULL|NULL|  NULL|    NULL|NULL|  NULL|     NULL|0.6950|NULL|39.028177|-76.817127| 47.00000|   Range|   Flat|\n",
              "| BEL116|2013-01-07 11:00:00|     6.7300|         NULL|          -0.6100|               NULL|          50.2800|                  S|       488.1000|             NULL|34.3700|   NULL|       0.0000|           NULL|   2.6690|       NULL|      293.6000|            NULL|    32.1800|         NULL|   1.5150|       NULL|          3.0150|              NULL| 0.0000|     NULL|            26.3300|                 NULL|      3|2013-01-07 11:00:00|metdata_2013.csv|NULL|    NULL|   NULL|NULL|NULL| 0.7950|    NULL|NULL|  NULL|    NULL|NULL|  NULL|     NULL|0.1760|NULL|39.028177|-76.817127| 47.00000|   Range|   Flat|\n",
              "| BEL116|2013-01-09 07:00:00|    -2.3740|         NULL|           0.4520|               NULL|         100.0000|               NULL|        18.6400|             NULL| 0.8010|   NULL|       0.0000|           NULL|   0.4710|       NULL|       74.8400|            NULL|    27.5200|         NULL|   1.5150|       NULL|          0.5190|              NULL| 0.0000|     NULL|            22.8200|                 NULL|      3|2013-01-09 07:00:00|metdata_2013.csv|NULL|    NULL|   NULL|NULL|NULL|26.4400|    NULL|NULL|  NULL|    NULL|NULL|  NULL|     NULL|0.2410|NULL|39.028177|-76.817127| 47.00000|   Range|   Flat|\n",
              "| BEL116|2013-01-09 09:00:00|     2.3380|         NULL|           0.1440|               NULL|          97.6000|               NULL|       177.0000|             NULL| 1.9870|   NULL|       0.0000|           NULL|   0.0730|       NULL|      345.2000|            NULL|    32.4000|         NULL|   1.5150|       NULL|          0.4670|              NULL| 1.0000|     NULL|            23.9100|                 NULL|      3|2013-01-09 09:00:00|metdata_2013.csv|NULL|    NULL|   NULL|NULL|NULL|28.2800|    NULL|NULL|  NULL|    NULL|NULL|  NULL|     NULL|0.4100|NULL|39.028177|-76.817127| 47.00000|   Range|   Flat|\n",
              "+-------+-------------------+-----------+-------------+-----------------+-------------------+-----------------+-------------------+---------------+-----------------+-------+-------+-------------+---------------+---------+-----------+--------------+----------------+-----------+-------------+---------+-----------+----------------+------------------+-------+---------+-------------------+---------------------+-------+-------------------+----------------+----+--------+-------+----+----+-------+--------+----+------+--------+----+------+---------+------+----+---------+----------+---------+--------+-------+\n",
              "only showing top 20 rows"
            ],
            "text/html": [
              "<table border='1'>\n",
              "<tr><th>SITE_ID</th><th>DATE_TIME</th><th>TEMPERATURE</th><th>TEMPERATURE_F</th><th>TEMPERATURE_DELTA</th><th>TEMPERATURE_DELTA_F</th><th>RELATIVE_HUMIDITY</th><th>RELATIVE_HUMIDITY_F</th><th>SOLAR_RADIATION</th><th>SOLAR_RADIATION_F</th><th>OZONE</th><th>OZONE_F</th><th>PRECIPITATION</th><th>PRECIPITATION_F</th><th>WINDSPEED</th><th>WINDSPEED_F</th><th>WIND_DIRECTION</th><th>WIND_DIRECTION_F</th><th>SIGMA_THETA</th><th>SIGMA_THETA_F</th><th>FLOW_RATE</th><th>FLOW_RATE_F</th><th>WINDSPEED_SCALAR</th><th>WINDSPEED_SCALAR_F</th><th>WETNESS</th><th>WETNESS_F</th><th>SHELTER_TEMPERATURE</th><th>SHELTER_TEMPERATURE_F</th><th>QA_CODE</th><th>UPDATE_DATE</th><th>Filename</th><th>CO</th><th>FLOW_23M</th><th>FLOW_2M</th><th>HNO3</th><th>NH3</th><th>NO</th><th>NO2_TRUE</th><th>NOX</th><th>NOXDIF</th><th>NOX_TRUE</th><th>NOY</th><th>NOYDIF</th><th>NOY_MINUS</th><th>SO2_GA</th><th>TNX</th><th>LATITUDE</th><th>LONGITUDE</th><th>ELEVATION</th><th>LAND_USE</th><th>TERRAIN</th></tr>\n",
              "<tr><td>BEL116</td><td>2013-01-01 22:00:00</td><td>3.8590</td><td>NULL</td><td>0.0440</td><td>NULL</td><td>67.7900</td><td>NULL</td><td>0.4750</td><td>NULL</td><td>23.3200</td><td>NULL</td><td>0.0000</td><td>NULL</td><td>1.0080</td><td>NULL</td><td>318.5000</td><td>NULL</td><td>36.9700</td><td>NULL</td><td>1.5150</td><td>NULL</td><td>1.1930</td><td>NULL</td><td>0.0000</td><td>NULL</td><td>27.0500</td><td>NULL</td><td>3</td><td>2013-01-01 22:00:00</td><td>metdata_2013.csv</td><td>NULL</td><td>NULL</td><td>NULL</td><td>NULL</td><td>NULL</td><td>0.0290</td><td>NULL</td><td>NULL</td><td>NULL</td><td>NULL</td><td>NULL</td><td>NULL</td><td>NULL</td><td>0.9990</td><td>NULL</td><td>39.028177</td><td>-76.817127</td><td>47.00000</td><td>Range</td><td>Flat</td></tr>\n",
              "<tr><td>BEL116</td><td>2013-01-02 03:00:00</td><td>1.5730</td><td>NULL</td><td>0.0570</td><td>NULL</td><td>63.0100</td><td>NULL</td><td>0.4710</td><td>NULL</td><td>30.5300</td><td>NULL</td><td>0.0000</td><td>NULL</td><td>0.7250</td><td>NULL</td><td>5.0380</td><td>NULL</td><td>38.4400</td><td>NULL</td><td>1.5150</td><td>NULL</td><td>0.8690</td><td>NULL</td><td>0.0000</td><td>NULL</td><td>26.5600</td><td>NULL</td><td>3</td><td>2013-01-02 03:00:00</td><td>metdata_2013.csv</td><td>NULL</td><td>NULL</td><td>NULL</td><td>NULL</td><td>NULL</td><td>0.0250</td><td>NULL</td><td>NULL</td><td>NULL</td><td>NULL</td><td>NULL</td><td>NULL</td><td>NULL</td><td>2.3820</td><td>NULL</td><td>39.028177</td><td>-76.817127</td><td>47.00000</td><td>Range</td><td>Flat</td></tr>\n",
              "<tr><td>BEL116</td><td>2013-01-02 07:00:00</td><td>-0.3470</td><td>NULL</td><td>0.1750</td><td>NULL</td><td>64.3200</td><td>NULL</td><td>9.4500</td><td>NULL</td><td>28.3700</td><td>NULL</td><td>0.0000</td><td>NULL</td><td>0.6740</td><td>NULL</td><td>352.5000</td><td>NULL</td><td>34.3200</td><td>NULL</td><td>1.5150</td><td>NULL</td><td>0.7860</td><td>NULL</td><td>0.0000</td><td>NULL</td><td>25.6900</td><td>NULL</td><td>3</td><td>2013-01-02 07:00:00</td><td>metdata_2013.csv</td><td>NULL</td><td>NULL</td><td>NULL</td><td>NULL</td><td>NULL</td><td>0.0310</td><td>NULL</td><td>NULL</td><td>NULL</td><td>NULL</td><td>NULL</td><td>NULL</td><td>NULL</td><td>2.9260</td><td>NULL</td><td>39.028177</td><td>-76.817127</td><td>47.00000</td><td>Range</td><td>Flat</td></tr>\n",
              "<tr><td>BEL116</td><td>2013-01-02 08:00:00</td><td>-0.4400</td><td>NULL</td><td>0.0530</td><td>NULL</td><td>64.2200</td><td>NULL</td><td>106.4000</td><td>NULL</td><td>26.0000</td><td>NULL</td><td>0.0000</td><td>NULL</td><td>0.8180</td><td>NULL</td><td>316.4000</td><td>NULL</td><td>34.0600</td><td>NULL</td><td>1.5150</td><td>NULL</td><td>0.9410</td><td>NULL</td><td>0.0000</td><td>NULL</td><td>25.3400</td><td>NULL</td><td>3</td><td>2013-01-02 08:00:00</td><td>metdata_2013.csv</td><td>NULL</td><td>NULL</td><td>NULL</td><td>NULL</td><td>NULL</td><td>0.7330</td><td>NULL</td><td>NULL</td><td>NULL</td><td>NULL</td><td>NULL</td><td>NULL</td><td>NULL</td><td>2.8350</td><td>NULL</td><td>39.028177</td><td>-76.817127</td><td>47.00000</td><td>Range</td><td>Flat</td></tr>\n",
              "<tr><td>BEL116</td><td>2013-01-02 15:00:00</td><td>1.4860</td><td>NULL</td><td>-0.1930</td><td>NULL</td><td>44.6300</td><td>S</td><td>182.8000</td><td>NULL</td><td>33.6900</td><td>NULL</td><td>0.0000</td><td>NULL</td><td>1.1140</td><td>NULL</td><td>344.2000</td><td>NULL</td><td>51.0900</td><td>NULL</td><td>1.5150</td><td>NULL</td><td>1.6140</td><td>NULL</td><td>0.0000</td><td>NULL</td><td>26.6900</td><td>NULL</td><td>3</td><td>2013-01-02 15:00:00</td><td>metdata_2013.csv</td><td>NULL</td><td>NULL</td><td>NULL</td><td>NULL</td><td>NULL</td><td>0.7130</td><td>NULL</td><td>NULL</td><td>NULL</td><td>NULL</td><td>NULL</td><td>NULL</td><td>NULL</td><td>1.3170</td><td>NULL</td><td>39.028177</td><td>-76.817127</td><td>47.00000</td><td>Range</td><td>Flat</td></tr>\n",
              "<tr><td>BEL116</td><td>2013-01-03 05:00:00</td><td>-4.1270</td><td>NULL</td><td>0.8360</td><td>NULL</td><td>72.7900</td><td>NULL</td><td>0.4310</td><td>NULL</td><td>16.1500</td><td>NULL</td><td>0.0000</td><td>NULL</td><td>0.1280</td><td>NULL</td><td>58.4300</td><td>NULL</td><td>26.9800</td><td>NULL</td><td>1.5150</td><td>NULL</td><td>0.1550</td><td>NULL</td><td>0.0000</td><td>NULL</td><td>21.0500</td><td>NULL</td><td>3</td><td>2013-01-03 05:00:00</td><td>metdata_2013.csv</td><td>NULL</td><td>NULL</td><td>NULL</td><td>NULL</td><td>NULL</td><td>-0.1450</td><td>NULL</td><td>NULL</td><td>NULL</td><td>NULL</td><td>NULL</td><td>NULL</td><td>NULL</td><td>1.1050</td><td>NULL</td><td>39.028177</td><td>-76.817127</td><td>47.00000</td><td>Range</td><td>Flat</td></tr>\n",
              "<tr><td>BEL116</td><td>2013-01-03 07:00:00</td><td>-6.6340</td><td>NULL</td><td>0.9130</td><td>NULL</td><td>89.9000</td><td>NULL</td><td>8.1600</td><td>NULL</td><td>9.4100</td><td>NULL</td><td>0.0000</td><td>NULL</td><td>0.0560</td><td>NULL</td><td>189.2000</td><td>NULL</td><td>40.6700</td><td>NULL</td><td>1.5150</td><td>NULL</td><td>0.0950</td><td>NULL</td><td>0.0000</td><td>NULL</td><td>20.2300</td><td>NULL</td><td>3</td><td>2013-01-03 07:00:00</td><td>metdata_2013.csv</td><td>NULL</td><td>NULL</td><td>NULL</td><td>NULL</td><td>NULL</td><td>0.1990</td><td>NULL</td><td>NULL</td><td>NULL</td><td>NULL</td><td>NULL</td><td>NULL</td><td>NULL</td><td>0.3450</td><td>NULL</td><td>39.028177</td><td>-76.817127</td><td>47.00000</td><td>Range</td><td>Flat</td></tr>\n",
              "<tr><td>BEL116</td><td>2013-01-03 13:00:00</td><td>1.9400</td><td>NULL</td><td>-0.5210</td><td>NULL</td><td>46.8700</td><td>S</td><td>347.6000</td><td>NULL</td><td>27.5900</td><td>NULL</td><td>0.0000</td><td>NULL</td><td>2.6770</td><td>NULL</td><td>257.6000</td><td>NULL</td><td>20.7400</td><td>NULL</td><td>1.5150</td><td>NULL</td><td>2.8360</td><td>NULL</td><td>0.0000</td><td>NULL</td><td>23.9700</td><td>NULL</td><td>3</td><td>2013-01-03 13:00:00</td><td>metdata_2013.csv</td><td>NULL</td><td>NULL</td><td>NULL</td><td>NULL</td><td>NULL</td><td>4.2330</td><td>NULL</td><td>NULL</td><td>NULL</td><td>NULL</td><td>NULL</td><td>NULL</td><td>NULL</td><td>1.9130</td><td>NULL</td><td>39.028177</td><td>-76.817127</td><td>47.00000</td><td>Range</td><td>Flat</td></tr>\n",
              "<tr><td>BEL116</td><td>2013-01-03 15:00:00</td><td>3.0470</td><td>NULL</td><td>-0.2550</td><td>NULL</td><td>42.1200</td><td>S</td><td>215.0000</td><td>NULL</td><td>29.6400</td><td>NULL</td><td>0.0000</td><td>NULL</td><td>3.0220</td><td>NULL</td><td>250.3000</td><td>NULL</td><td>13.3000</td><td>NULL</td><td>1.5150</td><td>NULL</td><td>3.1190</td><td>NULL</td><td>0.0000</td><td>NULL</td><td>25.1300</td><td>NULL</td><td>3</td><td>2013-01-03 15:00:00</td><td>metdata_2013.csv</td><td>NULL</td><td>NULL</td><td>NULL</td><td>NULL</td><td>NULL</td><td>2.1830</td><td>NULL</td><td>NULL</td><td>NULL</td><td>NULL</td><td>NULL</td><td>NULL</td><td>NULL</td><td>1.2930</td><td>NULL</td><td>39.028177</td><td>-76.817127</td><td>47.00000</td><td>Range</td><td>Flat</td></tr>\n",
              "<tr><td>BEL116</td><td>2013-01-03 17:00:00</td><td>-0.0860</td><td>NULL</td><td>1.3010</td><td>NULL</td><td>59.2700</td><td>NULL</td><td>1.1100</td><td>NULL</td><td>15.1700</td><td>NULL</td><td>0.0000</td><td>NULL</td><td>0.1830</td><td>NULL</td><td>171.8000</td><td>NULL</td><td>48.8300</td><td>NULL</td><td>1.5150</td><td>NULL</td><td>0.4910</td><td>NULL</td><td>0.0000</td><td>NULL</td><td>25.0200</td><td>NULL</td><td>3</td><td>2013-01-03 17:00:00</td><td>metdata_2013.csv</td><td>NULL</td><td>NULL</td><td>NULL</td><td>NULL</td><td>NULL</td><td>0.0330</td><td>NULL</td><td>NULL</td><td>NULL</td><td>NULL</td><td>NULL</td><td>NULL</td><td>NULL</td><td>0.9950</td><td>NULL</td><td>39.028177</td><td>-76.817127</td><td>47.00000</td><td>Range</td><td>Flat</td></tr>\n",
              "<tr><td>BEL116</td><td>2013-01-03 18:00:00</td><td>-1.3640</td><td>NULL</td><td>1.7560</td><td>NULL</td><td>67.0800</td><td>NULL</td><td>0.4540</td><td>NULL</td><td>7.3410</td><td>NULL</td><td>0.0000</td><td>NULL</td><td>0.0460</td><td>NULL</td><td>152.4000</td><td>NULL</td><td>50.8000</td><td>NULL</td><td>1.5150</td><td>NULL</td><td>0.3690</td><td>NULL</td><td>0.0000</td><td>NULL</td><td>24.2900</td><td>NULL</td><td>3</td><td>2013-01-03 18:00:00</td><td>metdata_2013.csv</td><td>NULL</td><td>NULL</td><td>NULL</td><td>NULL</td><td>NULL</td><td>0.1870</td><td>NULL</td><td>NULL</td><td>NULL</td><td>NULL</td><td>NULL</td><td>NULL</td><td>NULL</td><td>0.8850</td><td>NULL</td><td>39.028177</td><td>-76.817127</td><td>47.00000</td><td>Range</td><td>Flat</td></tr>\n",
              "<tr><td>BEL116</td><td>2013-01-03 19:00:00</td><td>-1.9830</td><td>NULL</td><td>1.5390</td><td>NULL</td><td>71.7600</td><td>NULL</td><td>0.4500</td><td>NULL</td><td>2.8580</td><td>NULL</td><td>0.0000</td><td>NULL</td><td>0.2650</td><td>NULL</td><td>78.6100</td><td>NULL</td><td>56.5700</td><td>NULL</td><td>1.5150</td><td>NULL</td><td>0.3950</td><td>NULL</td><td>0.0000</td><td>NULL</td><td>23.6000</td><td>NULL</td><td>3</td><td>2013-01-03 19:00:00</td><td>metdata_2013.csv</td><td>NULL</td><td>NULL</td><td>NULL</td><td>NULL</td><td>NULL</td><td>0.9360</td><td>NULL</td><td>NULL</td><td>NULL</td><td>NULL</td><td>NULL</td><td>NULL</td><td>NULL</td><td>0.8330</td><td>NULL</td><td>39.028177</td><td>-76.817127</td><td>47.00000</td><td>Range</td><td>Flat</td></tr>\n",
              "<tr><td>BEL116</td><td>2013-01-04 01:00:00</td><td>-2.2940</td><td>NULL</td><td>2.1860</td><td>NULL</td><td>75.3300</td><td>NULL</td><td>0.4280</td><td>NULL</td><td>7.7670</td><td>&lt;</td><td>0.0000</td><td>NULL</td><td>0.6340</td><td>NULL</td><td>228.9000</td><td>NULL</td><td>66.6200</td><td>NULL</td><td>1.5150</td><td>NULL</td><td>1.1600</td><td>NULL</td><td>0.0000</td><td>NULL</td><td>20.9700</td><td>NULL</td><td>3</td><td>2013-01-04 01:00:00</td><td>metdata_2013.csv</td><td>NULL</td><td>NULL</td><td>NULL</td><td>NULL</td><td>NULL</td><td>0.2170</td><td>NULL</td><td>NULL</td><td>NULL</td><td>NULL</td><td>NULL</td><td>NULL</td><td>NULL</td><td>1.4780</td><td>NULL</td><td>39.028177</td><td>-76.817127</td><td>47.00000</td><td>Range</td><td>Flat</td></tr>\n",
              "<tr><td>BEL116</td><td>2013-01-05 12:00:00</td><td>5.1090</td><td>NULL</td><td>-0.6780</td><td>NULL</td><td>47.9900</td><td>S</td><td>492.5000</td><td>NULL</td><td>35.5700</td><td>NULL</td><td>0.0000</td><td>NULL</td><td>2.5920</td><td>NULL</td><td>268.9000</td><td>NULL</td><td>26.7000</td><td>NULL</td><td>1.5150</td><td>NULL</td><td>2.8790</td><td>NULL</td><td>0.0000</td><td>NULL</td><td>26.5800</td><td>NULL</td><td>3</td><td>2013-01-05 12:00:00</td><td>metdata_2013.csv</td><td>NULL</td><td>NULL</td><td>NULL</td><td>NULL</td><td>NULL</td><td>0.8230</td><td>NULL</td><td>NULL</td><td>NULL</td><td>NULL</td><td>NULL</td><td>NULL</td><td>NULL</td><td>1.6750</td><td>NULL</td><td>39.028177</td><td>-76.817127</td><td>47.00000</td><td>Range</td><td>Flat</td></tr>\n",
              "<tr><td>BEL116</td><td>2013-01-05 15:00:00</td><td>5.7740</td><td>NULL</td><td>-0.1830</td><td>NULL</td><td>46.2400</td><td>S</td><td>169.2000</td><td>NULL</td><td>35.0400</td><td>NULL</td><td>0.0000</td><td>NULL</td><td>1.8340</td><td>NULL</td><td>248.2000</td><td>NULL</td><td>18.9300</td><td>NULL</td><td>1.5150</td><td>NULL</td><td>1.9540</td><td>NULL</td><td>0.0000</td><td>NULL</td><td>26.3800</td><td>NULL</td><td>3</td><td>2013-01-05 15:00:00</td><td>metdata_2013.csv</td><td>NULL</td><td>NULL</td><td>NULL</td><td>NULL</td><td>NULL</td><td>0.6980</td><td>NULL</td><td>NULL</td><td>NULL</td><td>NULL</td><td>NULL</td><td>NULL</td><td>NULL</td><td>1.7120</td><td>NULL</td><td>39.028177</td><td>-76.817127</td><td>47.00000</td><td>Range</td><td>Flat</td></tr>\n",
              "<tr><td>BEL116</td><td>2013-01-06 14:00:00</td><td>9.8900</td><td>NULL</td><td>-0.4540</td><td>NULL</td><td>42.5600</td><td>S</td><td>319.2000</td><td>NULL</td><td>36.1800</td><td>NULL</td><td>0.0000</td><td>NULL</td><td>2.2060</td><td>NULL</td><td>235.4000</td><td>NULL</td><td>27.8300</td><td>NULL</td><td>1.5150</td><td>NULL</td><td>2.4410</td><td>NULL</td><td>0.0000</td><td>NULL</td><td>26.1900</td><td>NULL</td><td>3</td><td>2013-01-06 14:00:00</td><td>metdata_2013.csv</td><td>NULL</td><td>NULL</td><td>NULL</td><td>NULL</td><td>NULL</td><td>1.3250</td><td>NULL</td><td>NULL</td><td>NULL</td><td>NULL</td><td>NULL</td><td>NULL</td><td>NULL</td><td>0.5910</td><td>NULL</td><td>39.028177</td><td>-76.817127</td><td>47.00000</td><td>Range</td><td>Flat</td></tr>\n",
              "<tr><td>BEL116</td><td>2013-01-07 04:00:00</td><td>6.0630</td><td>NULL</td><td>0.0680</td><td>NULL</td><td>58.3900</td><td>S</td><td>0.4740</td><td>NULL</td><td>30.7700</td><td>NULL</td><td>0.0000</td><td>NULL</td><td>2.8900</td><td>NULL</td><td>286.0000</td><td>NULL</td><td>22.3900</td><td>NULL</td><td>1.5150</td><td>NULL</td><td>3.0790</td><td>NULL</td><td>0.0000</td><td>NULL</td><td>26.5700</td><td>NULL</td><td>3</td><td>2013-01-07 04:00:00</td><td>metdata_2013.csv</td><td>NULL</td><td>NULL</td><td>NULL</td><td>NULL</td><td>NULL</td><td>0.0330</td><td>NULL</td><td>NULL</td><td>NULL</td><td>NULL</td><td>NULL</td><td>NULL</td><td>NULL</td><td>0.6950</td><td>NULL</td><td>39.028177</td><td>-76.817127</td><td>47.00000</td><td>Range</td><td>Flat</td></tr>\n",
              "<tr><td>BEL116</td><td>2013-01-07 11:00:00</td><td>6.7300</td><td>NULL</td><td>-0.6100</td><td>NULL</td><td>50.2800</td><td>S</td><td>488.1000</td><td>NULL</td><td>34.3700</td><td>NULL</td><td>0.0000</td><td>NULL</td><td>2.6690</td><td>NULL</td><td>293.6000</td><td>NULL</td><td>32.1800</td><td>NULL</td><td>1.5150</td><td>NULL</td><td>3.0150</td><td>NULL</td><td>0.0000</td><td>NULL</td><td>26.3300</td><td>NULL</td><td>3</td><td>2013-01-07 11:00:00</td><td>metdata_2013.csv</td><td>NULL</td><td>NULL</td><td>NULL</td><td>NULL</td><td>NULL</td><td>0.7950</td><td>NULL</td><td>NULL</td><td>NULL</td><td>NULL</td><td>NULL</td><td>NULL</td><td>NULL</td><td>0.1760</td><td>NULL</td><td>39.028177</td><td>-76.817127</td><td>47.00000</td><td>Range</td><td>Flat</td></tr>\n",
              "<tr><td>BEL116</td><td>2013-01-09 07:00:00</td><td>-2.3740</td><td>NULL</td><td>0.4520</td><td>NULL</td><td>100.0000</td><td>NULL</td><td>18.6400</td><td>NULL</td><td>0.8010</td><td>NULL</td><td>0.0000</td><td>NULL</td><td>0.4710</td><td>NULL</td><td>74.8400</td><td>NULL</td><td>27.5200</td><td>NULL</td><td>1.5150</td><td>NULL</td><td>0.5190</td><td>NULL</td><td>0.0000</td><td>NULL</td><td>22.8200</td><td>NULL</td><td>3</td><td>2013-01-09 07:00:00</td><td>metdata_2013.csv</td><td>NULL</td><td>NULL</td><td>NULL</td><td>NULL</td><td>NULL</td><td>26.4400</td><td>NULL</td><td>NULL</td><td>NULL</td><td>NULL</td><td>NULL</td><td>NULL</td><td>NULL</td><td>0.2410</td><td>NULL</td><td>39.028177</td><td>-76.817127</td><td>47.00000</td><td>Range</td><td>Flat</td></tr>\n",
              "<tr><td>BEL116</td><td>2013-01-09 09:00:00</td><td>2.3380</td><td>NULL</td><td>0.1440</td><td>NULL</td><td>97.6000</td><td>NULL</td><td>177.0000</td><td>NULL</td><td>1.9870</td><td>NULL</td><td>0.0000</td><td>NULL</td><td>0.0730</td><td>NULL</td><td>345.2000</td><td>NULL</td><td>32.4000</td><td>NULL</td><td>1.5150</td><td>NULL</td><td>0.4670</td><td>NULL</td><td>1.0000</td><td>NULL</td><td>23.9100</td><td>NULL</td><td>3</td><td>2013-01-09 09:00:00</td><td>metdata_2013.csv</td><td>NULL</td><td>NULL</td><td>NULL</td><td>NULL</td><td>NULL</td><td>28.2800</td><td>NULL</td><td>NULL</td><td>NULL</td><td>NULL</td><td>NULL</td><td>NULL</td><td>NULL</td><td>0.4100</td><td>NULL</td><td>39.028177</td><td>-76.817127</td><td>47.00000</td><td>Range</td><td>Flat</td></tr>\n",
              "</table>\n",
              "only showing top 20 rows\n"
            ]
          },
          "metadata": {}
        }
      ]
    }
  ]
}