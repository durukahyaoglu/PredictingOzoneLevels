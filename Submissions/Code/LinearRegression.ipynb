{
 "cells": [
  {
   "cell_type": "markdown",
   "metadata": {},
   "source": [
    "# Linear Regression Modeling"
   ]
  },
  {
   "cell_type": "markdown",
   "metadata": {},
   "source": [
    "### Import Data and Libraries and Apply Preprocessing"
   ]
  },
  {
   "cell_type": "code",
   "execution_count": null,
   "metadata": {},
   "outputs": [],
   "source": [
    "import pandas as pd\n",
    "from sklearn.preprocessing import OneHotEncoder, StandardScaler\n",
    "from sklearn.compose import ColumnTransformer\n",
    "from sklearn.linear_model import LinearRegression, Ridge, Lasso, ElasticNet\n",
    "from sklearn.metrics import r2_score\n",
    "from sklearn.model_selection import GridSearchCV\n",
    "import shap"
   ]
  },
  {
   "cell_type": "code",
   "execution_count": 1,
   "metadata": {},
   "outputs": [
    {
     "name": "stderr",
     "output_type": "stream",
     "text": [
      "/Users/andrealopez/opt/anaconda3/lib/python3.8/site-packages/pandas/core/computation/expressions.py:20: UserWarning: Pandas requires version '2.7.3' or newer of 'numexpr' (version '2.7.1' currently installed).\n",
      "  from pandas.core.computation.check import NUMEXPR_INSTALLED\n"
     ]
    }
   ],
   "source": [
    "def generate_datasets(pth):\n",
    "    df = pd.read_parquet(pth)\n",
    "    df[\"year\"] = df[\"DATE_TIME\"].dt.year\n",
    "    df[\"month\"] = df[\"DATE_TIME\"].dt.month\n",
    "    df[\"LATITUDE\"] = df[\"LATITUDE\"].astype(\"float\")\n",
    "    df[\"LONGITUDE\"] = df[\"LONGITUDE\"].astype(\"float\")\n",
    "\n",
    "    categorical_columns = ['LAND_USE', 'TERRAIN']\n",
    "    for feature in categorical_columns:\n",
    "        encoder = OneHotEncoder()\n",
    "        encoded_data = encoder.fit_transform(df[[feature]])\n",
    "        df[encoder.categories_[0]] = encoded_data.toarray()\n",
    "\n",
    "    drop_columns = ['OZONE', \"year\", \"DATE_TIME\", \"SITE_ID\", \"QA_CODE\", \"WINDSPEED\", \"SIGMA_THETA\"] + categorical_columns\n",
    "    df_train = df[df['year'].isin([2013, 2014, 2015, 2016, 2017, 2018])]\n",
    "    X_train, y_train = df_train.drop(columns=drop_columns, axis=1), df_train['OZONE']\n",
    "\n",
    "    columns = X_train.columns\n",
    "\n",
    "    numerical_features = ['TEMPERATURE',\n",
    "                        'RELATIVE_HUMIDITY',\n",
    "                        'SOLAR_RADIATION',\n",
    "                        'PRECIPITATION',\n",
    "                        'WIND_DIRECTION',\n",
    "                        'FLOW_RATE',\n",
    "                        'WINDSPEED_SCALAR',\n",
    "                        'SHELTER_TEMPERATURE',\n",
    "                        'NO',\n",
    "                        'NOY',\n",
    "                        'NOYDIF',\n",
    "                        'SO2_GA',\n",
    "                        'LATITUDE',\n",
    "                        'LONGITUDE',\n",
    "                        'ELEVATION']\n",
    "\n",
    "    ct = ColumnTransformer([\n",
    "        ('Standardize Numerical Features', StandardScaler(), numerical_features)\n",
    "    ], remainder='passthrough')\n",
    "    X_train = ct.fit_transform(X_train)\n",
    "\n",
    "    df_val = df[df['year'].isin([2019, 2020])]\n",
    "    X_val, y_val = df_val.drop(columns=drop_columns, axis=1), df_val['OZONE']\n",
    "    X_val = ct.transform(X_val)\n",
    "\n",
    "    df_test = df[df['year'].isin([2021, 2022])]\n",
    "    X_test, y_test = df_test.drop(columns=drop_columns, axis=1), df_test['OZONE']\n",
    "    X_test = ct.transform(X_test)\n",
    "\n",
    "    return columns, X_train, y_train, X_val, y_val, X_test, y_test\n",
    "\n",
    "columns, X_train, y_train, X_val, y_val, X_test, y_test = generate_datasets(\"met_gas_site_cleaned.snappy.parquet\")"
   ]
  },
  {
   "cell_type": "code",
   "execution_count": 2,
   "metadata": {},
   "outputs": [
    {
     "data": {
      "text/plain": [
       "Index(['TEMPERATURE', 'RELATIVE_HUMIDITY', 'SOLAR_RADIATION', 'PRECIPITATION',\n",
       "       'WIND_DIRECTION', 'FLOW_RATE', 'WINDSPEED_SCALAR',\n",
       "       'SHELTER_TEMPERATURE', 'NO', 'NOY', 'NOYDIF', 'SO2_GA', 'LATITUDE',\n",
       "       'LONGITUDE', 'ELEVATION', 'month', 'Agric', 'Forest', 'Range',\n",
       "       'Complex', 'Flat', 'Rolling'],\n",
       "      dtype='object')"
      ]
     },
     "execution_count": 2,
     "metadata": {},
     "output_type": "execute_result"
    }
   ],
   "source": [
    "columns"
   ]
  },
  {
   "cell_type": "markdown",
   "metadata": {},
   "source": [
    "### Baseline Linear Regression Model"
   ]
  },
  {
   "cell_type": "code",
   "execution_count": 11,
   "metadata": {},
   "outputs": [
    {
     "name": "stdout",
     "output_type": "stream",
     "text": [
      "Train R^2: 0.6130299482655969\n",
      "Validation R^2: 0.5808890317709722\n",
      "Test R^2: 0.5955484776210591\n"
     ]
    }
   ],
   "source": [
    "model = LinearRegression() # default parameters, no tuning\n",
    "model.fit(X_train, y_train)\n",
    "\n",
    "y_pred_train = model.predict(X_train)\n",
    "print(\"Train R^2:\", r2_score(y_train, y_pred_train))\n",
    "y_pred_val = model.predict(X_val)\n",
    "print(\"Validation R^2:\", r2_score(y_val, y_pred_val))\n",
    "y_pred_test = model.predict(X_test)\n",
    "print(\"Test R^2:\", r2_score(y_test, y_pred_test))"
   ]
  },
  {
   "cell_type": "code",
   "execution_count": 21,
   "metadata": {},
   "outputs": [
    {
     "data": {
      "image/png": "[encoded data removed]",
      "text/plain": [
       "<Figure size 576x684 with 1 Axes>"
      ]
     },
     "metadata": {
      "needs_background": "light"
     },
     "output_type": "display_data"
    }
   ],
   "source": [
    "# Use SHAP to get most important features\n",
    "\n",
    "explainer = shap.Explainer(model, X_train)\n",
    "shap_values = explainer.shap_values(X_train)\n",
    "shap.summary_plot(shap_values, X_train, plot_type=\"bar\")"
   ]
  },
  {
   "cell_type": "code",
   "execution_count": 24,
   "metadata": {},
   "outputs": [
    {
     "name": "stdout",
     "output_type": "stream",
     "text": [
      "TEMPERATURE month RELATIVE_HUMIDITY\n"
     ]
    }
   ],
   "source": [
    "print(columns[0], columns[15], columns[1])\n",
    "# The most important features were temperature, month, and relative humidity."
   ]
  },
  {
   "cell_type": "markdown",
   "metadata": {},
   "source": [
    "## Lasso Regression Model"
   ]
  },
  {
   "cell_type": "code",
   "execution_count": 7,
   "metadata": {},
   "outputs": [
    {
     "name": "stdout",
     "output_type": "stream",
     "text": [
      "Best parameters:\n",
      "{'alpha': 0.01, 'max_iter': 10000}\n",
      "Validation R^2: 0.5811537522819731\n",
      "Test R^2: 0.5958156111265835\n",
      "CPU times: user 2min 43s, sys: 22.1 s, total: 3min 5s\n",
      "Wall time: 46.1 s\n"
     ]
    }
   ],
   "source": [
    "%%time\n",
    "\n",
    "# hyperparameter tuning\n",
    "param_grid = {\n",
    "    'alpha': [0.001, 0.01, 0.1, 1, 10],\n",
    "    'max_iter': [10000, 100000]\n",
    "}\n",
    "\n",
    "model_lasso = Lasso()\n",
    "grid_search = GridSearchCV(model_lasso, param_grid, cv=5, scoring='r2')\n",
    "grid_search.fit(X_train, y_train)\n",
    "\n",
    "print(\"Best parameters:\")\n",
    "print(grid_search.best_params_)\n",
    "\n",
    "model_lasso_best = Lasso(alpha=grid_search.best_params_['alpha'],\n",
    "                        max_iter=grid_search.best_params_['max_iter'])\n",
    "\n",
    "model_lasso_best.fit(X_train, y_train)\n",
    "\n",
    "y_pred_val = model_lasso_best.predict(X_val)\n",
    "print(\"Validation R^2:\", r2_score(y_val, y_pred_val))\n",
    "y_pred_test = model_lasso_best.predict(X_test)\n",
    "print(\"Test R^2:\", r2_score(y_test, y_pred_test))"
   ]
  },
  {
   "cell_type": "markdown",
   "metadata": {},
   "source": [
    "## Ridge Regression Model"
   ]
  },
  {
   "cell_type": "code",
   "execution_count": 8,
   "metadata": {},
   "outputs": [
    {
     "name": "stdout",
     "output_type": "stream",
     "text": [
      "Best parameters:\n",
      "{'alpha': 10, 'max_iter': 10000}\n",
      "Validation R^2: 0.5808912212692833\n",
      "Test R^2: 0.595549640792371\n",
      "CPU times: user 6.09 s, sys: 2.07 s, total: 8.16 s\n",
      "Wall time: 2.33 s\n"
     ]
    }
   ],
   "source": [
    "%%time\n",
    "\n",
    "# hyperparameter tuning \n",
    "param_grid = {\n",
    "    'alpha': [0.001, 0.01, 0.1, 1, 10],\n",
    "    'max_iter': [10000, 100000]\n",
    "}\n",
    "\n",
    "model_ridge = Ridge()\n",
    "grid_search = GridSearchCV(model_ridge, param_grid, cv=5, scoring='r2')\n",
    "grid_search.fit(X_train, y_train)\n",
    "\n",
    "print(\"Best parameters:\")\n",
    "print(grid_search.best_params_)\n",
    "\n",
    "model_ridge_best = Ridge(alpha=grid_search.best_params_['alpha'],\n",
    "                        max_iter=grid_search.best_params_['max_iter'])\n",
    "\n",
    "model_ridge_best.fit(X_train, y_train)\n",
    "\n",
    "y_pred_val = model_ridge_best.predict(X_val)\n",
    "print(\"Validation R^2:\", r2_score(y_val, y_pred_val))\n",
    "y_pred_test = model_ridge_best.predict(X_test)\n",
    "print(\"Test R^2:\", r2_score(y_test, y_pred_test))"
   ]
  },
  {
   "cell_type": "markdown",
   "metadata": {},
   "source": [
    "## Elastic Net Regression Model"
   ]
  },
  {
   "cell_type": "code",
   "execution_count": 10,
   "metadata": {},
   "outputs": [
    {
     "name": "stdout",
     "output_type": "stream",
     "text": [
      "Best parameters:\n",
      "{'alpha': 0.01, 'l1_ratio': 0.75, 'max_iter': 10000}\n",
      "Validation R2: 0.581163750437486\n",
      "Test R2: 0.5957603821001163\n",
      "CPU times: user 14min 29s, sys: 1min 48s, total: 16min 18s\n",
      "Wall time: 4min 2s\n"
     ]
    }
   ],
   "source": [
    "%%time\n",
    "\n",
    "# hyperparameter tuning\n",
    "param_grid = {\n",
    "    'alpha': [0.001, 0.01, 0.1, 1, 10],\n",
    "    'max_iter': [10000, 100000],\n",
    "    'l1_ratio': [0.1, 0.25, 0.5, 0.75, 0.9]\n",
    "}\n",
    "\n",
    "model_elastic_net = ElasticNet()\n",
    "grid_search = GridSearchCV(model_elastic_net, param_grid, cv=5, scoring='r2')\n",
    "grid_search.fit(X_train, y_train)\n",
    "\n",
    "print(\"Best parameters:\")\n",
    "print(grid_search.best_params_)\n",
    "\n",
    "model_elastic_net_best = ElasticNet(alpha=grid_search.best_params_['alpha'],\n",
    "                        max_iter=grid_search.best_params_['max_iter'],\n",
    "                        l1_ratio=grid_search.best_params_['l1_ratio'])\n",
    "\n",
    "model_elastic_net_best.fit(X_train, y_train)\n",
    "\n",
    "y_pred_val = model_elastic_net_best.predict(X_val)\n",
    "print(\"Validation R2:\", r2_score(y_val, y_pred_val))\n",
    "y_pred_test = model_elastic_net_best.predict(X_test)\n",
    "print(\"Test R2:\", r2_score(y_test, y_pred_test))"
   ]
  },
  {
   "cell_type": "code",
   "execution_count": 12,
   "metadata": {},
   "outputs": [
    {
     "name": "stdout",
     "output_type": "stream",
     "text": [
      "Train R^2: 0.6130135488976084\n"
     ]
    }
   ],
   "source": [
    "y_pred_train = model_elastic_net_best.predict(X_train)\n",
    "print(\"Train R^2:\", r2_score(y_train, y_pred_train))"
   ]
  },
  {
   "cell_type": "code",
   "execution_count": 22,
   "metadata": {},
   "outputs": [
    {
     "data": {
      "image/png": "[encoded data removed]",
      "text/plain": [
       "<Figure size 576x684 with 1 Axes>"
      ]
     },
     "metadata": {
      "needs_background": "light"
     },
     "output_type": "display_data"
    }
   ],
   "source": [
    "# Use SHAP to get most important features\n",
    "explainer = shap.Explainer(model_elastic_net_best, X_train)\n",
    "shap_values = explainer.shap_values(X_train)\n",
    "shap.summary_plot(shap_values, X_train, plot_type=\"bar\")"
   ]
  },
  {
   "cell_type": "code",
   "execution_count": 26,
   "metadata": {},
   "outputs": [
    {
     "name": "stdout",
     "output_type": "stream",
     "text": [
      "RELATIVE_HUMIDITY month ELEVATION\n"
     ]
    }
   ],
   "source": [
    "print(columns[1], columns[15], columns[14])\n",
    "# The most important features were relative humidity, month, and elevation."
   ]
  }
 ],
 "metadata": {
  "kernelspec": {
   "display_name": "Python 3",
   "language": "python",
   "name": "python3"
  },
  "language_info": {
   "codemirror_mode": {
    "name": "ipython",
    "version": 3
   },
   "file_extension": ".py",
   "mimetype": "text/x-python",
   "name": "python",
   "nbconvert_exporter": "python",
   "pygments_lexer": "ipython3",
   "version": "3.8.5"
  }
 },
 "nbformat": 4,
 "nbformat_minor": 4
}
